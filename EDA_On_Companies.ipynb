{
  "nbformat": 4,
  "nbformat_minor": 0,
  "metadata": {
    "colab": {
      "provenance": [],
      "mount_file_id": "1zrFQiysr9y1vLVobsBV_Xkj9UvmQfa5o",
      "authorship_tag": "ABX9TyOqFO+oUkIqfeTEnLNOEhU9",
      "include_colab_link": true
    },
    "kernelspec": {
      "name": "python3",
      "display_name": "Python 3"
    },
    "language_info": {
      "name": "python"
    }
  },
  "cells": [
    {
      "cell_type": "markdown",
      "metadata": {
        "id": "view-in-github",
        "colab_type": "text"
      },
      "source": [
        "<a href=\"https://colab.research.google.com/github/Suraj5188/EDA_On_Companies_DataSet/blob/main/EDA_On_Companies.ipynb\" target=\"_parent\"><img src=\"https://colab.research.google.com/assets/colab-badge.svg\" alt=\"Open In Colab\"/></a>"
      ]
    },
    {
      "cell_type": "markdown",
      "source": [
        "**What is Exploratory Data Analysis ?**\n",
        "\n",
        "![](https://moriohcdn.b-cdn.net/ff3cc511fb.png)\n",
        "\n",
        "Exploratory Data Analysis or (EDA) is understanding the data sets by summarizing their main characteristics often plotting them visually. This step is very important especially when we arrive at modeling the data in order to apply Machine learning. Plotting in EDA consists of Histograms, Box plot, Scatter plot and many more. It often takes much time to explore the data. Through the process of EDA, we can ask to define the problem statement or definition on our data set which is very important"
      ],
      "metadata": {
        "id": "d6dIOnfhN20K"
      }
    },
    {
      "cell_type": "markdown",
      "source": [
        "# **Problem Statement :**\n",
        "\n",
        "**Problem statement is nothing but we have to find the uncover pattern from the given dataset.**"
      ],
      "metadata": {
        "id": "fSX1fZIxQqv_"
      }
    },
    {
      "cell_type": "markdown",
      "source": [
        "Let's do"
      ],
      "metadata": {
        "id": "qxPCW6uJRAs3"
      }
    },
    {
      "cell_type": "markdown",
      "source": [
        "# **Index:**\n",
        "\n",
        "**1.  Lets Invite Some Libraries**\n",
        "\n",
        "**2.  Mounting our Drive/Load dataset**\n",
        "\n",
        "**3.  Dataset Information**\n",
        "\n",
        "**4.  Data Cleaning/Wrangling**\n",
        "\n",
        "**5.  Summary of Statistics**\n",
        "\n",
        "**6.  Skewness and kurtosis**\n",
        "\n",
        "**7.  Distributions of the variables/features**\n",
        "\n",
        "**8.  Correlation**\n",
        "\n",
        "**9.  Univariate Analysis**\n",
        "\n",
        "**10. Bivariate Analysis**\n",
        "\n",
        "**11. Data Visulization in detail**\n",
        "\n",
        "**12. Conclusion**"
      ],
      "metadata": {
        "id": "H0OLqVnHV709"
      }
    },
    {
      "cell_type": "markdown",
      "source": [
        "# **1. Lets Invite Some Libraries**"
      ],
      "metadata": {
        "id": "m0BVZMGZWNzX"
      }
    },
    {
      "cell_type": "code",
      "execution_count": 1,
      "metadata": {
        "id": "iThir4OqUuUe"
      },
      "outputs": [],
      "source": [
        "import pandas as pd\n",
        "import numpy as np\n",
        "import seaborn as sns\n",
        "import matplotlib.pyplot as plt\n",
        "%matplotlib inline\n",
        "import plotly.express as px\n",
        "from wordcloud import WordCloud, STOPWORDS"
      ]
    },
    {
      "cell_type": "markdown",
      "source": [
        "# **2. Mounting our Drive**"
      ],
      "metadata": {
        "id": "23XUQz7uWcae"
      }
    },
    {
      "cell_type": "code",
      "source": [
        "df=pd.read_csv('/content/drive/MyDrive/Colab Notebooks/EDA Projects/companies.csv')"
      ],
      "metadata": {
        "id": "lR_zwfxOXC1z"
      },
      "execution_count": 2,
      "outputs": []
    },
    {
      "cell_type": "markdown",
      "source": [
        "#**3. Dataset Information**"
      ],
      "metadata": {
        "id": "vY0ohj77flvX"
      }
    },
    {
      "cell_type": "code",
      "source": [
        "df.head()"
      ],
      "metadata": {
        "id": "SPZ07R9IfdZO",
        "colab": {
          "base_uri": "https://localhost:8080/",
          "height": 409
        },
        "outputId": "8c7cf490-018b-4828-ab6a-099626985bc7"
      },
      "execution_count": 3,
      "outputs": [
        {
          "output_type": "execute_result",
          "data": {
            "text/plain": [
              "                             permalink                    name  \\\n",
              "0                  /organization/-fame                   #fame   \n",
              "1               /organization/-qounter                :Qounter   \n",
              "2  /organization/-the-one-of-them-inc-  (THE) ONE of THEM,Inc.   \n",
              "3                /organization/0-6-com                 0-6.com   \n",
              "4       /organization/004-technologies        004 Technologies   \n",
              "\n",
              "                        homepage_url  \\\n",
              "0                 http://livfame.com   \n",
              "1             http://www.qounter.com   \n",
              "2                http://oneofthem.jp   \n",
              "3                 http://www.0-6.com   \n",
              "4  http://004gmbh.de/en/004-interact   \n",
              "\n",
              "                                       category_list funding_total_usd  \\\n",
              "0                                              Media          10000000   \n",
              "1  Application Platforms|Real Time|Social Network...            700000   \n",
              "2                                  Apps|Games|Mobile           3406878   \n",
              "3                                        Curated Web           2000000   \n",
              "4                                           Software                 -   \n",
              "\n",
              "      status country_code state_code                 region           city  \\\n",
              "0  operating          IND         16                 Mumbai         Mumbai   \n",
              "1  operating          USA         DE             DE - Other  Delaware City   \n",
              "2  operating          NaN        NaN                    NaN            NaN   \n",
              "3  operating          CHN         22                Beijing        Beijing   \n",
              "4  operating          USA         IL  Springfield, Illinois      Champaign   \n",
              "\n",
              "   funding_rounds  founded_at first_funding_at last_funding_at  \n",
              "0               1         NaN       2015-01-05      2015-01-05  \n",
              "1               2  2014-09-04       2014-03-01      2014-10-14  \n",
              "2               1         NaN       2014-01-30      2014-01-30  \n",
              "3               1  2007-01-01       2008-03-19      2008-03-19  \n",
              "4               1  2010-01-01       2014-07-24      2014-07-24  "
            ],
            "text/html": [
              "\n",
              "  <div id=\"df-309dd63b-f0af-4c58-ac39-d50595cb2f18\">\n",
              "    <div class=\"colab-df-container\">\n",
              "      <div>\n",
              "<style scoped>\n",
              "    .dataframe tbody tr th:only-of-type {\n",
              "        vertical-align: middle;\n",
              "    }\n",
              "\n",
              "    .dataframe tbody tr th {\n",
              "        vertical-align: top;\n",
              "    }\n",
              "\n",
              "    .dataframe thead th {\n",
              "        text-align: right;\n",
              "    }\n",
              "</style>\n",
              "<table border=\"1\" class=\"dataframe\">\n",
              "  <thead>\n",
              "    <tr style=\"text-align: right;\">\n",
              "      <th></th>\n",
              "      <th>permalink</th>\n",
              "      <th>name</th>\n",
              "      <th>homepage_url</th>\n",
              "      <th>category_list</th>\n",
              "      <th>funding_total_usd</th>\n",
              "      <th>status</th>\n",
              "      <th>country_code</th>\n",
              "      <th>state_code</th>\n",
              "      <th>region</th>\n",
              "      <th>city</th>\n",
              "      <th>funding_rounds</th>\n",
              "      <th>founded_at</th>\n",
              "      <th>first_funding_at</th>\n",
              "      <th>last_funding_at</th>\n",
              "    </tr>\n",
              "  </thead>\n",
              "  <tbody>\n",
              "    <tr>\n",
              "      <th>0</th>\n",
              "      <td>/organization/-fame</td>\n",
              "      <td>#fame</td>\n",
              "      <td>http://livfame.com</td>\n",
              "      <td>Media</td>\n",
              "      <td>10000000</td>\n",
              "      <td>operating</td>\n",
              "      <td>IND</td>\n",
              "      <td>16</td>\n",
              "      <td>Mumbai</td>\n",
              "      <td>Mumbai</td>\n",
              "      <td>1</td>\n",
              "      <td>NaN</td>\n",
              "      <td>2015-01-05</td>\n",
              "      <td>2015-01-05</td>\n",
              "    </tr>\n",
              "    <tr>\n",
              "      <th>1</th>\n",
              "      <td>/organization/-qounter</td>\n",
              "      <td>:Qounter</td>\n",
              "      <td>http://www.qounter.com</td>\n",
              "      <td>Application Platforms|Real Time|Social Network...</td>\n",
              "      <td>700000</td>\n",
              "      <td>operating</td>\n",
              "      <td>USA</td>\n",
              "      <td>DE</td>\n",
              "      <td>DE - Other</td>\n",
              "      <td>Delaware City</td>\n",
              "      <td>2</td>\n",
              "      <td>2014-09-04</td>\n",
              "      <td>2014-03-01</td>\n",
              "      <td>2014-10-14</td>\n",
              "    </tr>\n",
              "    <tr>\n",
              "      <th>2</th>\n",
              "      <td>/organization/-the-one-of-them-inc-</td>\n",
              "      <td>(THE) ONE of THEM,Inc.</td>\n",
              "      <td>http://oneofthem.jp</td>\n",
              "      <td>Apps|Games|Mobile</td>\n",
              "      <td>3406878</td>\n",
              "      <td>operating</td>\n",
              "      <td>NaN</td>\n",
              "      <td>NaN</td>\n",
              "      <td>NaN</td>\n",
              "      <td>NaN</td>\n",
              "      <td>1</td>\n",
              "      <td>NaN</td>\n",
              "      <td>2014-01-30</td>\n",
              "      <td>2014-01-30</td>\n",
              "    </tr>\n",
              "    <tr>\n",
              "      <th>3</th>\n",
              "      <td>/organization/0-6-com</td>\n",
              "      <td>0-6.com</td>\n",
              "      <td>http://www.0-6.com</td>\n",
              "      <td>Curated Web</td>\n",
              "      <td>2000000</td>\n",
              "      <td>operating</td>\n",
              "      <td>CHN</td>\n",
              "      <td>22</td>\n",
              "      <td>Beijing</td>\n",
              "      <td>Beijing</td>\n",
              "      <td>1</td>\n",
              "      <td>2007-01-01</td>\n",
              "      <td>2008-03-19</td>\n",
              "      <td>2008-03-19</td>\n",
              "    </tr>\n",
              "    <tr>\n",
              "      <th>4</th>\n",
              "      <td>/organization/004-technologies</td>\n",
              "      <td>004 Technologies</td>\n",
              "      <td>http://004gmbh.de/en/004-interact</td>\n",
              "      <td>Software</td>\n",
              "      <td>-</td>\n",
              "      <td>operating</td>\n",
              "      <td>USA</td>\n",
              "      <td>IL</td>\n",
              "      <td>Springfield, Illinois</td>\n",
              "      <td>Champaign</td>\n",
              "      <td>1</td>\n",
              "      <td>2010-01-01</td>\n",
              "      <td>2014-07-24</td>\n",
              "      <td>2014-07-24</td>\n",
              "    </tr>\n",
              "  </tbody>\n",
              "</table>\n",
              "</div>\n",
              "      <button class=\"colab-df-convert\" onclick=\"convertToInteractive('df-309dd63b-f0af-4c58-ac39-d50595cb2f18')\"\n",
              "              title=\"Convert this dataframe to an interactive table.\"\n",
              "              style=\"display:none;\">\n",
              "        \n",
              "  <svg xmlns=\"http://www.w3.org/2000/svg\" height=\"24px\"viewBox=\"0 0 24 24\"\n",
              "       width=\"24px\">\n",
              "    <path d=\"M0 0h24v24H0V0z\" fill=\"none\"/>\n",
              "    <path d=\"M18.56 5.44l.94 2.06.94-2.06 2.06-.94-2.06-.94-.94-2.06-.94 2.06-2.06.94zm-11 1L8.5 8.5l.94-2.06 2.06-.94-2.06-.94L8.5 2.5l-.94 2.06-2.06.94zm10 10l.94 2.06.94-2.06 2.06-.94-2.06-.94-.94-2.06-.94 2.06-2.06.94z\"/><path d=\"M17.41 7.96l-1.37-1.37c-.4-.4-.92-.59-1.43-.59-.52 0-1.04.2-1.43.59L10.3 9.45l-7.72 7.72c-.78.78-.78 2.05 0 2.83L4 21.41c.39.39.9.59 1.41.59.51 0 1.02-.2 1.41-.59l7.78-7.78 2.81-2.81c.8-.78.8-2.07 0-2.86zM5.41 20L4 18.59l7.72-7.72 1.47 1.35L5.41 20z\"/>\n",
              "  </svg>\n",
              "      </button>\n",
              "      \n",
              "  <style>\n",
              "    .colab-df-container {\n",
              "      display:flex;\n",
              "      flex-wrap:wrap;\n",
              "      gap: 12px;\n",
              "    }\n",
              "\n",
              "    .colab-df-convert {\n",
              "      background-color: #E8F0FE;\n",
              "      border: none;\n",
              "      border-radius: 50%;\n",
              "      cursor: pointer;\n",
              "      display: none;\n",
              "      fill: #1967D2;\n",
              "      height: 32px;\n",
              "      padding: 0 0 0 0;\n",
              "      width: 32px;\n",
              "    }\n",
              "\n",
              "    .colab-df-convert:hover {\n",
              "      background-color: #E2EBFA;\n",
              "      box-shadow: 0px 1px 2px rgba(60, 64, 67, 0.3), 0px 1px 3px 1px rgba(60, 64, 67, 0.15);\n",
              "      fill: #174EA6;\n",
              "    }\n",
              "\n",
              "    [theme=dark] .colab-df-convert {\n",
              "      background-color: #3B4455;\n",
              "      fill: #D2E3FC;\n",
              "    }\n",
              "\n",
              "    [theme=dark] .colab-df-convert:hover {\n",
              "      background-color: #434B5C;\n",
              "      box-shadow: 0px 1px 3px 1px rgba(0, 0, 0, 0.15);\n",
              "      filter: drop-shadow(0px 1px 2px rgba(0, 0, 0, 0.3));\n",
              "      fill: #FFFFFF;\n",
              "    }\n",
              "  </style>\n",
              "\n",
              "      <script>\n",
              "        const buttonEl =\n",
              "          document.querySelector('#df-309dd63b-f0af-4c58-ac39-d50595cb2f18 button.colab-df-convert');\n",
              "        buttonEl.style.display =\n",
              "          google.colab.kernel.accessAllowed ? 'block' : 'none';\n",
              "\n",
              "        async function convertToInteractive(key) {\n",
              "          const element = document.querySelector('#df-309dd63b-f0af-4c58-ac39-d50595cb2f18');\n",
              "          const dataTable =\n",
              "            await google.colab.kernel.invokeFunction('convertToInteractive',\n",
              "                                                     [key], {});\n",
              "          if (!dataTable) return;\n",
              "\n",
              "          const docLinkHtml = 'Like what you see? Visit the ' +\n",
              "            '<a target=\"_blank\" href=https://colab.research.google.com/notebooks/data_table.ipynb>data table notebook</a>'\n",
              "            + ' to learn more about interactive tables.';\n",
              "          element.innerHTML = '';\n",
              "          dataTable['output_type'] = 'display_data';\n",
              "          await google.colab.output.renderOutput(dataTable, element);\n",
              "          const docLink = document.createElement('div');\n",
              "          docLink.innerHTML = docLinkHtml;\n",
              "          element.appendChild(docLink);\n",
              "        }\n",
              "      </script>\n",
              "    </div>\n",
              "  </div>\n",
              "  "
            ]
          },
          "metadata": {},
          "execution_count": 3
        }
      ]
    },
    {
      "cell_type": "code",
      "source": [
        "df.tail()"
      ],
      "metadata": {
        "colab": {
          "base_uri": "https://localhost:8080/",
          "height": 461
        },
        "id": "EijkWyndvtkt",
        "outputId": "152cb322-3454-4686-f9a4-5b389421b107"
      },
      "execution_count": 4,
      "outputs": [
        {
          "output_type": "execute_result",
          "data": {
            "text/plain": [
              "                                               permalink  \\\n",
              "66363  /organization/zznode-science-and-technology-co...   \n",
              "66364                          /organization/zzzzapp-com   \n",
              "66365                                /organization/Áeron   \n",
              "66366                              /organization/Ôasys-2   \n",
              "66367  /organization/İnovatiff-reklam-ve-tanıtım-hizm...   \n",
              "\n",
              "                                             name            homepage_url  \\\n",
              "66363               ZZNode Science and Technology   http://www.zznode.com   \n",
              "66364                       Zzzzapp Wireless ltd.  http://www.zzzzapp.com   \n",
              "66365                                       ÁERON    http://www.aeron.hu/   \n",
              "66366                                       Ôasys    http://www.oasys.io/   \n",
              "66367  İnovatiff Reklam ve Tanıtım Hizmetleri Tic    http://inovatiff.com   \n",
              "\n",
              "                                           category_list funding_total_usd  \\\n",
              "66363                                Enterprise Software           1587301   \n",
              "66364        Advertising|Mobile|Web Development|Wireless            114304   \n",
              "66365                                                NaN                 -   \n",
              "66366  Consumer Electronics|Internet of Things|Teleco...             18192   \n",
              "66367                 Consumer Goods|E-Commerce|Internet             14851   \n",
              "\n",
              "          status country_code state_code       region           city  \\\n",
              "66363  operating          CHN         22      Beijing        Beijing   \n",
              "66364  operating          HRV         15        Split          Split   \n",
              "66365  operating          NaN        NaN          NaN            NaN   \n",
              "66366  operating          USA         CA  SF Bay Area  San Francisco   \n",
              "66367  operating          NaN        NaN          NaN            NaN   \n",
              "\n",
              "       funding_rounds  founded_at first_funding_at last_funding_at  \n",
              "66363               1         NaN       2012-04-01      2012-04-01  \n",
              "66364               4  2012-05-13       2011-11-01      2014-03-01  \n",
              "66365               1  2011-01-01       2014-08-01      2014-08-01  \n",
              "66366               1  2014-01-01       2015-01-01      2015-01-01  \n",
              "66367               1         NaN       2013-10-01      2013-10-01  "
            ],
            "text/html": [
              "\n",
              "  <div id=\"df-6a79f0d6-498a-4935-b5a8-4525f157e7f9\">\n",
              "    <div class=\"colab-df-container\">\n",
              "      <div>\n",
              "<style scoped>\n",
              "    .dataframe tbody tr th:only-of-type {\n",
              "        vertical-align: middle;\n",
              "    }\n",
              "\n",
              "    .dataframe tbody tr th {\n",
              "        vertical-align: top;\n",
              "    }\n",
              "\n",
              "    .dataframe thead th {\n",
              "        text-align: right;\n",
              "    }\n",
              "</style>\n",
              "<table border=\"1\" class=\"dataframe\">\n",
              "  <thead>\n",
              "    <tr style=\"text-align: right;\">\n",
              "      <th></th>\n",
              "      <th>permalink</th>\n",
              "      <th>name</th>\n",
              "      <th>homepage_url</th>\n",
              "      <th>category_list</th>\n",
              "      <th>funding_total_usd</th>\n",
              "      <th>status</th>\n",
              "      <th>country_code</th>\n",
              "      <th>state_code</th>\n",
              "      <th>region</th>\n",
              "      <th>city</th>\n",
              "      <th>funding_rounds</th>\n",
              "      <th>founded_at</th>\n",
              "      <th>first_funding_at</th>\n",
              "      <th>last_funding_at</th>\n",
              "    </tr>\n",
              "  </thead>\n",
              "  <tbody>\n",
              "    <tr>\n",
              "      <th>66363</th>\n",
              "      <td>/organization/zznode-science-and-technology-co...</td>\n",
              "      <td>ZZNode Science and Technology</td>\n",
              "      <td>http://www.zznode.com</td>\n",
              "      <td>Enterprise Software</td>\n",
              "      <td>1587301</td>\n",
              "      <td>operating</td>\n",
              "      <td>CHN</td>\n",
              "      <td>22</td>\n",
              "      <td>Beijing</td>\n",
              "      <td>Beijing</td>\n",
              "      <td>1</td>\n",
              "      <td>NaN</td>\n",
              "      <td>2012-04-01</td>\n",
              "      <td>2012-04-01</td>\n",
              "    </tr>\n",
              "    <tr>\n",
              "      <th>66364</th>\n",
              "      <td>/organization/zzzzapp-com</td>\n",
              "      <td>Zzzzapp Wireless ltd.</td>\n",
              "      <td>http://www.zzzzapp.com</td>\n",
              "      <td>Advertising|Mobile|Web Development|Wireless</td>\n",
              "      <td>114304</td>\n",
              "      <td>operating</td>\n",
              "      <td>HRV</td>\n",
              "      <td>15</td>\n",
              "      <td>Split</td>\n",
              "      <td>Split</td>\n",
              "      <td>4</td>\n",
              "      <td>2012-05-13</td>\n",
              "      <td>2011-11-01</td>\n",
              "      <td>2014-03-01</td>\n",
              "    </tr>\n",
              "    <tr>\n",
              "      <th>66365</th>\n",
              "      <td>/organization/Áeron</td>\n",
              "      <td>ÁERON</td>\n",
              "      <td>http://www.aeron.hu/</td>\n",
              "      <td>NaN</td>\n",
              "      <td>-</td>\n",
              "      <td>operating</td>\n",
              "      <td>NaN</td>\n",
              "      <td>NaN</td>\n",
              "      <td>NaN</td>\n",
              "      <td>NaN</td>\n",
              "      <td>1</td>\n",
              "      <td>2011-01-01</td>\n",
              "      <td>2014-08-01</td>\n",
              "      <td>2014-08-01</td>\n",
              "    </tr>\n",
              "    <tr>\n",
              "      <th>66366</th>\n",
              "      <td>/organization/Ôasys-2</td>\n",
              "      <td>Ôasys</td>\n",
              "      <td>http://www.oasys.io/</td>\n",
              "      <td>Consumer Electronics|Internet of Things|Teleco...</td>\n",
              "      <td>18192</td>\n",
              "      <td>operating</td>\n",
              "      <td>USA</td>\n",
              "      <td>CA</td>\n",
              "      <td>SF Bay Area</td>\n",
              "      <td>San Francisco</td>\n",
              "      <td>1</td>\n",
              "      <td>2014-01-01</td>\n",
              "      <td>2015-01-01</td>\n",
              "      <td>2015-01-01</td>\n",
              "    </tr>\n",
              "    <tr>\n",
              "      <th>66367</th>\n",
              "      <td>/organization/İnovatiff-reklam-ve-tanıtım-hizm...</td>\n",
              "      <td>İnovatiff Reklam ve Tanıtım Hizmetleri Tic</td>\n",
              "      <td>http://inovatiff.com</td>\n",
              "      <td>Consumer Goods|E-Commerce|Internet</td>\n",
              "      <td>14851</td>\n",
              "      <td>operating</td>\n",
              "      <td>NaN</td>\n",
              "      <td>NaN</td>\n",
              "      <td>NaN</td>\n",
              "      <td>NaN</td>\n",
              "      <td>1</td>\n",
              "      <td>NaN</td>\n",
              "      <td>2013-10-01</td>\n",
              "      <td>2013-10-01</td>\n",
              "    </tr>\n",
              "  </tbody>\n",
              "</table>\n",
              "</div>\n",
              "      <button class=\"colab-df-convert\" onclick=\"convertToInteractive('df-6a79f0d6-498a-4935-b5a8-4525f157e7f9')\"\n",
              "              title=\"Convert this dataframe to an interactive table.\"\n",
              "              style=\"display:none;\">\n",
              "        \n",
              "  <svg xmlns=\"http://www.w3.org/2000/svg\" height=\"24px\"viewBox=\"0 0 24 24\"\n",
              "       width=\"24px\">\n",
              "    <path d=\"M0 0h24v24H0V0z\" fill=\"none\"/>\n",
              "    <path d=\"M18.56 5.44l.94 2.06.94-2.06 2.06-.94-2.06-.94-.94-2.06-.94 2.06-2.06.94zm-11 1L8.5 8.5l.94-2.06 2.06-.94-2.06-.94L8.5 2.5l-.94 2.06-2.06.94zm10 10l.94 2.06.94-2.06 2.06-.94-2.06-.94-.94-2.06-.94 2.06-2.06.94z\"/><path d=\"M17.41 7.96l-1.37-1.37c-.4-.4-.92-.59-1.43-.59-.52 0-1.04.2-1.43.59L10.3 9.45l-7.72 7.72c-.78.78-.78 2.05 0 2.83L4 21.41c.39.39.9.59 1.41.59.51 0 1.02-.2 1.41-.59l7.78-7.78 2.81-2.81c.8-.78.8-2.07 0-2.86zM5.41 20L4 18.59l7.72-7.72 1.47 1.35L5.41 20z\"/>\n",
              "  </svg>\n",
              "      </button>\n",
              "      \n",
              "  <style>\n",
              "    .colab-df-container {\n",
              "      display:flex;\n",
              "      flex-wrap:wrap;\n",
              "      gap: 12px;\n",
              "    }\n",
              "\n",
              "    .colab-df-convert {\n",
              "      background-color: #E8F0FE;\n",
              "      border: none;\n",
              "      border-radius: 50%;\n",
              "      cursor: pointer;\n",
              "      display: none;\n",
              "      fill: #1967D2;\n",
              "      height: 32px;\n",
              "      padding: 0 0 0 0;\n",
              "      width: 32px;\n",
              "    }\n",
              "\n",
              "    .colab-df-convert:hover {\n",
              "      background-color: #E2EBFA;\n",
              "      box-shadow: 0px 1px 2px rgba(60, 64, 67, 0.3), 0px 1px 3px 1px rgba(60, 64, 67, 0.15);\n",
              "      fill: #174EA6;\n",
              "    }\n",
              "\n",
              "    [theme=dark] .colab-df-convert {\n",
              "      background-color: #3B4455;\n",
              "      fill: #D2E3FC;\n",
              "    }\n",
              "\n",
              "    [theme=dark] .colab-df-convert:hover {\n",
              "      background-color: #434B5C;\n",
              "      box-shadow: 0px 1px 3px 1px rgba(0, 0, 0, 0.15);\n",
              "      filter: drop-shadow(0px 1px 2px rgba(0, 0, 0, 0.3));\n",
              "      fill: #FFFFFF;\n",
              "    }\n",
              "  </style>\n",
              "\n",
              "      <script>\n",
              "        const buttonEl =\n",
              "          document.querySelector('#df-6a79f0d6-498a-4935-b5a8-4525f157e7f9 button.colab-df-convert');\n",
              "        buttonEl.style.display =\n",
              "          google.colab.kernel.accessAllowed ? 'block' : 'none';\n",
              "\n",
              "        async function convertToInteractive(key) {\n",
              "          const element = document.querySelector('#df-6a79f0d6-498a-4935-b5a8-4525f157e7f9');\n",
              "          const dataTable =\n",
              "            await google.colab.kernel.invokeFunction('convertToInteractive',\n",
              "                                                     [key], {});\n",
              "          if (!dataTable) return;\n",
              "\n",
              "          const docLinkHtml = 'Like what you see? Visit the ' +\n",
              "            '<a target=\"_blank\" href=https://colab.research.google.com/notebooks/data_table.ipynb>data table notebook</a>'\n",
              "            + ' to learn more about interactive tables.';\n",
              "          element.innerHTML = '';\n",
              "          dataTable['output_type'] = 'display_data';\n",
              "          await google.colab.output.renderOutput(dataTable, element);\n",
              "          const docLink = document.createElement('div');\n",
              "          docLink.innerHTML = docLinkHtml;\n",
              "          element.appendChild(docLink);\n",
              "        }\n",
              "      </script>\n",
              "    </div>\n",
              "  </div>\n",
              "  "
            ]
          },
          "metadata": {},
          "execution_count": 4
        }
      ]
    },
    {
      "cell_type": "code",
      "source": [
        "df.size"
      ],
      "metadata": {
        "colab": {
          "base_uri": "https://localhost:8080/"
        },
        "id": "Ddjz2GXngzlF",
        "outputId": "3df8f420-b0b5-488e-a0b9-50eb2b0550d1"
      },
      "execution_count": 5,
      "outputs": [
        {
          "output_type": "execute_result",
          "data": {
            "text/plain": [
              "929152"
            ]
          },
          "metadata": {},
          "execution_count": 5
        }
      ]
    },
    {
      "cell_type": "code",
      "source": [
        "df.shape"
      ],
      "metadata": {
        "colab": {
          "base_uri": "https://localhost:8080/"
        },
        "id": "uhAEh2O7g19r",
        "outputId": "759a9e52-1b07-407d-d82e-9e4c92930152"
      },
      "execution_count": 6,
      "outputs": [
        {
          "output_type": "execute_result",
          "data": {
            "text/plain": [
              "(66368, 14)"
            ]
          },
          "metadata": {},
          "execution_count": 6
        }
      ]
    },
    {
      "cell_type": "code",
      "source": [
        "df.info()"
      ],
      "metadata": {
        "colab": {
          "base_uri": "https://localhost:8080/"
        },
        "id": "LxlykN6Ug3l-",
        "outputId": "e2454102-42ef-4fa3-9634-01752ccabc0e"
      },
      "execution_count": 7,
      "outputs": [
        {
          "output_type": "stream",
          "name": "stdout",
          "text": [
            "<class 'pandas.core.frame.DataFrame'>\n",
            "RangeIndex: 66368 entries, 0 to 66367\n",
            "Data columns (total 14 columns):\n",
            " #   Column             Non-Null Count  Dtype \n",
            "---  ------             --------------  ----- \n",
            " 0   permalink          66368 non-null  object\n",
            " 1   name               66367 non-null  object\n",
            " 2   homepage_url       61310 non-null  object\n",
            " 3   category_list      63220 non-null  object\n",
            " 4   funding_total_usd  66368 non-null  object\n",
            " 5   status             66368 non-null  object\n",
            " 6   country_code       59410 non-null  object\n",
            " 7   state_code         57821 non-null  object\n",
            " 8   region             58338 non-null  object\n",
            " 9   city               58340 non-null  object\n",
            " 10  funding_rounds     66368 non-null  int64 \n",
            " 11  founded_at         51147 non-null  object\n",
            " 12  first_funding_at   66344 non-null  object\n",
            " 13  last_funding_at    66368 non-null  object\n",
            "dtypes: int64(1), object(13)\n",
            "memory usage: 7.1+ MB\n"
          ]
        }
      ]
    },
    {
      "cell_type": "code",
      "source": [
        "# We are converting funding_total_usd feature into float dtype\n",
        "\n",
        "def fun(value):\n",
        "  if value=='-':\n",
        "    return np.nan\n",
        "  else:\n",
        "    value=float(value)\n",
        "    return value"
      ],
      "metadata": {
        "id": "4KEEQBMekSEP"
      },
      "execution_count": 8,
      "outputs": []
    },
    {
      "cell_type": "code",
      "source": [
        "df['funding_total_usd']=df['funding_total_usd'].apply(fun)"
      ],
      "metadata": {
        "id": "D6wpfpr2kYG1"
      },
      "execution_count": 9,
      "outputs": []
    },
    {
      "cell_type": "code",
      "source": [
        "# converting to datetime datatype\n",
        "\n",
        "df['founded_at']=pd.to_datetime(df['founded_at'],errors = 'coerce')"
      ],
      "metadata": {
        "id": "GVc5Q-oXlBEu"
      },
      "execution_count": 10,
      "outputs": []
    },
    {
      "cell_type": "code",
      "source": [
        "df.info()"
      ],
      "metadata": {
        "colab": {
          "base_uri": "https://localhost:8080/"
        },
        "id": "BcieHiVqkbeV",
        "outputId": "f6dc2e2f-30f4-44d9-c30d-506056eee206"
      },
      "execution_count": 11,
      "outputs": [
        {
          "output_type": "stream",
          "name": "stdout",
          "text": [
            "<class 'pandas.core.frame.DataFrame'>\n",
            "RangeIndex: 66368 entries, 0 to 66367\n",
            "Data columns (total 14 columns):\n",
            " #   Column             Non-Null Count  Dtype         \n",
            "---  ------             --------------  -----         \n",
            " 0   permalink          66368 non-null  object        \n",
            " 1   name               66367 non-null  object        \n",
            " 2   homepage_url       61310 non-null  object        \n",
            " 3   category_list      63220 non-null  object        \n",
            " 4   funding_total_usd  53583 non-null  float64       \n",
            " 5   status             66368 non-null  object        \n",
            " 6   country_code       59410 non-null  object        \n",
            " 7   state_code         57821 non-null  object        \n",
            " 8   region             58338 non-null  object        \n",
            " 9   city               58340 non-null  object        \n",
            " 10  funding_rounds     66368 non-null  int64         \n",
            " 11  founded_at         51143 non-null  datetime64[ns]\n",
            " 12  first_funding_at   66344 non-null  object        \n",
            " 13  last_funding_at    66368 non-null  object        \n",
            "dtypes: datetime64[ns](1), float64(1), int64(1), object(11)\n",
            "memory usage: 7.1+ MB\n"
          ]
        }
      ]
    },
    {
      "cell_type": "markdown",
      "source": [
        "**Observation :**\n",
        "\n",
        "* We could see that the features/column/fields and its data type, along with Null count\n",
        "* funding_total_usd is now float dtype\n",
        "* From given dataset we will be dropping some unwanted features in next EDA phase\n",
        "\n",
        "* Also we converted founded_at object to datetime dtype "
      ],
      "metadata": {
        "id": "57vRKdlekpcP"
      }
    },
    {
      "cell_type": "markdown",
      "source": [
        "#**4. Data Cleaning/Wrangling**"
      ],
      "metadata": {
        "id": "9GWqVaWNhnVl"
      }
    },
    {
      "cell_type": "markdown",
      "source": [
        "**Dealing with Missing Values**"
      ],
      "metadata": {
        "id": "46Roxl4Ul93U"
      }
    },
    {
      "cell_type": "code",
      "source": [
        "df.isnull().sum()"
      ],
      "metadata": {
        "colab": {
          "base_uri": "https://localhost:8080/"
        },
        "id": "lAR8JHn3g6rz",
        "outputId": "95abb86e-b5b6-4b9f-e337-84d750990a7b"
      },
      "execution_count": 12,
      "outputs": [
        {
          "output_type": "execute_result",
          "data": {
            "text/plain": [
              "permalink                0\n",
              "name                     1\n",
              "homepage_url          5058\n",
              "category_list         3148\n",
              "funding_total_usd    12785\n",
              "status                   0\n",
              "country_code          6958\n",
              "state_code            8547\n",
              "region                8030\n",
              "city                  8028\n",
              "funding_rounds           0\n",
              "founded_at           15225\n",
              "first_funding_at        24\n",
              "last_funding_at          0\n",
              "dtype: int64"
            ]
          },
          "metadata": {},
          "execution_count": 12
        }
      ]
    },
    {
      "cell_type": "code",
      "source": [
        "# Here we understanding the how many null values & their percentage\n",
        "\n",
        "total=df.isnull().sum().sort_values(ascending=False)\n",
        "percentage=(df.isnull().sum() / df.isnull().count()).sort_values(ascending=False)\n",
        "\n",
        "missing_data=pd.concat([total,percentage],axis=1,keys=['Total','Percentage'])"
      ],
      "metadata": {
        "id": "eG-nR8x8mKff"
      },
      "execution_count": 13,
      "outputs": []
    },
    {
      "cell_type": "code",
      "source": [
        "missing_data.head(14)"
      ],
      "metadata": {
        "colab": {
          "base_uri": "https://localhost:8080/",
          "height": 488
        },
        "id": "TnushUz_oKWu",
        "outputId": "776540ef-ea66-4369-c0b8-1bae45c6ec7c"
      },
      "execution_count": 14,
      "outputs": [
        {
          "output_type": "execute_result",
          "data": {
            "text/plain": [
              "                   Total  Percentage\n",
              "founded_at         15225    0.229403\n",
              "funding_total_usd  12785    0.192638\n",
              "state_code          8547    0.128782\n",
              "region              8030    0.120992\n",
              "city                8028    0.120962\n",
              "country_code        6958    0.104840\n",
              "homepage_url        5058    0.076211\n",
              "category_list       3148    0.047432\n",
              "first_funding_at      24    0.000362\n",
              "name                   1    0.000015\n",
              "permalink              0    0.000000\n",
              "status                 0    0.000000\n",
              "funding_rounds         0    0.000000\n",
              "last_funding_at        0    0.000000"
            ],
            "text/html": [
              "\n",
              "  <div id=\"df-48e80774-910c-404e-a706-155a2eddfd59\">\n",
              "    <div class=\"colab-df-container\">\n",
              "      <div>\n",
              "<style scoped>\n",
              "    .dataframe tbody tr th:only-of-type {\n",
              "        vertical-align: middle;\n",
              "    }\n",
              "\n",
              "    .dataframe tbody tr th {\n",
              "        vertical-align: top;\n",
              "    }\n",
              "\n",
              "    .dataframe thead th {\n",
              "        text-align: right;\n",
              "    }\n",
              "</style>\n",
              "<table border=\"1\" class=\"dataframe\">\n",
              "  <thead>\n",
              "    <tr style=\"text-align: right;\">\n",
              "      <th></th>\n",
              "      <th>Total</th>\n",
              "      <th>Percentage</th>\n",
              "    </tr>\n",
              "  </thead>\n",
              "  <tbody>\n",
              "    <tr>\n",
              "      <th>founded_at</th>\n",
              "      <td>15225</td>\n",
              "      <td>0.229403</td>\n",
              "    </tr>\n",
              "    <tr>\n",
              "      <th>funding_total_usd</th>\n",
              "      <td>12785</td>\n",
              "      <td>0.192638</td>\n",
              "    </tr>\n",
              "    <tr>\n",
              "      <th>state_code</th>\n",
              "      <td>8547</td>\n",
              "      <td>0.128782</td>\n",
              "    </tr>\n",
              "    <tr>\n",
              "      <th>region</th>\n",
              "      <td>8030</td>\n",
              "      <td>0.120992</td>\n",
              "    </tr>\n",
              "    <tr>\n",
              "      <th>city</th>\n",
              "      <td>8028</td>\n",
              "      <td>0.120962</td>\n",
              "    </tr>\n",
              "    <tr>\n",
              "      <th>country_code</th>\n",
              "      <td>6958</td>\n",
              "      <td>0.104840</td>\n",
              "    </tr>\n",
              "    <tr>\n",
              "      <th>homepage_url</th>\n",
              "      <td>5058</td>\n",
              "      <td>0.076211</td>\n",
              "    </tr>\n",
              "    <tr>\n",
              "      <th>category_list</th>\n",
              "      <td>3148</td>\n",
              "      <td>0.047432</td>\n",
              "    </tr>\n",
              "    <tr>\n",
              "      <th>first_funding_at</th>\n",
              "      <td>24</td>\n",
              "      <td>0.000362</td>\n",
              "    </tr>\n",
              "    <tr>\n",
              "      <th>name</th>\n",
              "      <td>1</td>\n",
              "      <td>0.000015</td>\n",
              "    </tr>\n",
              "    <tr>\n",
              "      <th>permalink</th>\n",
              "      <td>0</td>\n",
              "      <td>0.000000</td>\n",
              "    </tr>\n",
              "    <tr>\n",
              "      <th>status</th>\n",
              "      <td>0</td>\n",
              "      <td>0.000000</td>\n",
              "    </tr>\n",
              "    <tr>\n",
              "      <th>funding_rounds</th>\n",
              "      <td>0</td>\n",
              "      <td>0.000000</td>\n",
              "    </tr>\n",
              "    <tr>\n",
              "      <th>last_funding_at</th>\n",
              "      <td>0</td>\n",
              "      <td>0.000000</td>\n",
              "    </tr>\n",
              "  </tbody>\n",
              "</table>\n",
              "</div>\n",
              "      <button class=\"colab-df-convert\" onclick=\"convertToInteractive('df-48e80774-910c-404e-a706-155a2eddfd59')\"\n",
              "              title=\"Convert this dataframe to an interactive table.\"\n",
              "              style=\"display:none;\">\n",
              "        \n",
              "  <svg xmlns=\"http://www.w3.org/2000/svg\" height=\"24px\"viewBox=\"0 0 24 24\"\n",
              "       width=\"24px\">\n",
              "    <path d=\"M0 0h24v24H0V0z\" fill=\"none\"/>\n",
              "    <path d=\"M18.56 5.44l.94 2.06.94-2.06 2.06-.94-2.06-.94-.94-2.06-.94 2.06-2.06.94zm-11 1L8.5 8.5l.94-2.06 2.06-.94-2.06-.94L8.5 2.5l-.94 2.06-2.06.94zm10 10l.94 2.06.94-2.06 2.06-.94-2.06-.94-.94-2.06-.94 2.06-2.06.94z\"/><path d=\"M17.41 7.96l-1.37-1.37c-.4-.4-.92-.59-1.43-.59-.52 0-1.04.2-1.43.59L10.3 9.45l-7.72 7.72c-.78.78-.78 2.05 0 2.83L4 21.41c.39.39.9.59 1.41.59.51 0 1.02-.2 1.41-.59l7.78-7.78 2.81-2.81c.8-.78.8-2.07 0-2.86zM5.41 20L4 18.59l7.72-7.72 1.47 1.35L5.41 20z\"/>\n",
              "  </svg>\n",
              "      </button>\n",
              "      \n",
              "  <style>\n",
              "    .colab-df-container {\n",
              "      display:flex;\n",
              "      flex-wrap:wrap;\n",
              "      gap: 12px;\n",
              "    }\n",
              "\n",
              "    .colab-df-convert {\n",
              "      background-color: #E8F0FE;\n",
              "      border: none;\n",
              "      border-radius: 50%;\n",
              "      cursor: pointer;\n",
              "      display: none;\n",
              "      fill: #1967D2;\n",
              "      height: 32px;\n",
              "      padding: 0 0 0 0;\n",
              "      width: 32px;\n",
              "    }\n",
              "\n",
              "    .colab-df-convert:hover {\n",
              "      background-color: #E2EBFA;\n",
              "      box-shadow: 0px 1px 2px rgba(60, 64, 67, 0.3), 0px 1px 3px 1px rgba(60, 64, 67, 0.15);\n",
              "      fill: #174EA6;\n",
              "    }\n",
              "\n",
              "    [theme=dark] .colab-df-convert {\n",
              "      background-color: #3B4455;\n",
              "      fill: #D2E3FC;\n",
              "    }\n",
              "\n",
              "    [theme=dark] .colab-df-convert:hover {\n",
              "      background-color: #434B5C;\n",
              "      box-shadow: 0px 1px 3px 1px rgba(0, 0, 0, 0.15);\n",
              "      filter: drop-shadow(0px 1px 2px rgba(0, 0, 0, 0.3));\n",
              "      fill: #FFFFFF;\n",
              "    }\n",
              "  </style>\n",
              "\n",
              "      <script>\n",
              "        const buttonEl =\n",
              "          document.querySelector('#df-48e80774-910c-404e-a706-155a2eddfd59 button.colab-df-convert');\n",
              "        buttonEl.style.display =\n",
              "          google.colab.kernel.accessAllowed ? 'block' : 'none';\n",
              "\n",
              "        async function convertToInteractive(key) {\n",
              "          const element = document.querySelector('#df-48e80774-910c-404e-a706-155a2eddfd59');\n",
              "          const dataTable =\n",
              "            await google.colab.kernel.invokeFunction('convertToInteractive',\n",
              "                                                     [key], {});\n",
              "          if (!dataTable) return;\n",
              "\n",
              "          const docLinkHtml = 'Like what you see? Visit the ' +\n",
              "            '<a target=\"_blank\" href=https://colab.research.google.com/notebooks/data_table.ipynb>data table notebook</a>'\n",
              "            + ' to learn more about interactive tables.';\n",
              "          element.innerHTML = '';\n",
              "          dataTable['output_type'] = 'display_data';\n",
              "          await google.colab.output.renderOutput(dataTable, element);\n",
              "          const docLink = document.createElement('div');\n",
              "          docLink.innerHTML = docLinkHtml;\n",
              "          element.appendChild(docLink);\n",
              "        }\n",
              "      </script>\n",
              "    </div>\n",
              "  </div>\n",
              "  "
            ]
          },
          "metadata": {},
          "execution_count": 14
        }
      ]
    },
    {
      "cell_type": "markdown",
      "source": [
        "**Observation :**\n",
        "\n",
        "* We can observe that their are lot of missing values so we can't drop it\n",
        "* We will handled this missing 'nan'  values by filling them\n",
        "* Before that their are some features 'homepage_url','region' & 'permalink' we won’t be needing,so we will drop them from given dataset"
      ],
      "metadata": {
        "id": "YegN8yt8o4so"
      }
    },
    {
      "cell_type": "code",
      "source": [
        "# Dropping unwanted features from given dataset\n",
        "\n",
        "df=df.drop(['homepage_url','permalink','region'],axis=1)"
      ],
      "metadata": {
        "id": "MvhmmrYVoRH-"
      },
      "execution_count": 15,
      "outputs": []
    },
    {
      "cell_type": "code",
      "source": [
        "df.columns"
      ],
      "metadata": {
        "colab": {
          "base_uri": "https://localhost:8080/"
        },
        "id": "zB1bzP-brIgH",
        "outputId": "a73ed20e-6df6-404e-bbf6-08996f6f93ea"
      },
      "execution_count": 16,
      "outputs": [
        {
          "output_type": "execute_result",
          "data": {
            "text/plain": [
              "Index(['name', 'category_list', 'funding_total_usd', 'status', 'country_code',\n",
              "       'state_code', 'city', 'funding_rounds', 'founded_at',\n",
              "       'first_funding_at', 'last_funding_at'],\n",
              "      dtype='object')"
            ]
          },
          "metadata": {},
          "execution_count": 16
        }
      ]
    },
    {
      "cell_type": "markdown",
      "source": [
        "#**Now we deal with miising value**"
      ],
      "metadata": {
        "id": "sSp36CjPrR8y"
      }
    },
    {
      "cell_type": "code",
      "source": [
        "df.isnull().sum()"
      ],
      "metadata": {
        "colab": {
          "base_uri": "https://localhost:8080/"
        },
        "id": "0XT_XFKJrLYi",
        "outputId": "dc863088-6e21-4e42-ae95-28eb6e1d22cd"
      },
      "execution_count": 17,
      "outputs": [
        {
          "output_type": "execute_result",
          "data": {
            "text/plain": [
              "name                     1\n",
              "category_list         3148\n",
              "funding_total_usd    12785\n",
              "status                   0\n",
              "country_code          6958\n",
              "state_code            8547\n",
              "city                  8028\n",
              "funding_rounds           0\n",
              "founded_at           15225\n",
              "first_funding_at        24\n",
              "last_funding_at          0\n",
              "dtype: int64"
            ]
          },
          "metadata": {},
          "execution_count": 17
        }
      ]
    },
    {
      "cell_type": "markdown",
      "source": [
        "**1. Let's deal with category_list**"
      ],
      "metadata": {
        "id": "h4mYqFyhqwrt"
      }
    },
    {
      "cell_type": "code",
      "source": [
        "# Filling missing values for catgory list by mode\n",
        "\n",
        "df['category_list'].fillna(df['category_list'].mode()[0],inplace=True)"
      ],
      "metadata": {
        "id": "NNVfiWE1lC5j"
      },
      "execution_count": 18,
      "outputs": []
    },
    {
      "cell_type": "markdown",
      "source": [
        "**2. Now let's deal with funding_total_usd**"
      ],
      "metadata": {
        "id": "WMna8__WrJxH"
      }
    },
    {
      "cell_type": "code",
      "source": [
        "# Filling missing values for funding_total_usd by median\n",
        "\n",
        "df['funding_total_usd'].fillna(df['funding_total_usd'].median(),inplace=True)"
      ],
      "metadata": {
        "id": "SUmexk9an-9Y"
      },
      "execution_count": 19,
      "outputs": []
    },
    {
      "cell_type": "markdown",
      "source": [
        "**3. Let's deal with country_code**"
      ],
      "metadata": {
        "id": "2t5GrxmEtC87"
      }
    },
    {
      "cell_type": "code",
      "source": [
        "df['country_code'].value_counts()"
      ],
      "metadata": {
        "colab": {
          "base_uri": "https://localhost:8080/"
        },
        "id": "7tOlmlqQtB5h",
        "outputId": "d500ec74-ba13-4788-dd47-595e86a79ecb"
      },
      "execution_count": 20,
      "outputs": [
        {
          "output_type": "execute_result",
          "data": {
            "text/plain": [
              "USA    37601\n",
              "GBR     3688\n",
              "CAN     1925\n",
              "IND     1596\n",
              "CHN     1544\n",
              "       ...  \n",
              "BRN        1\n",
              "BRB        1\n",
              "IRN        1\n",
              "MNE        1\n",
              "MAF        1\n",
              "Name: country_code, Length: 137, dtype: int64"
            ]
          },
          "metadata": {},
          "execution_count": 20
        }
      ]
    },
    {
      "cell_type": "markdown",
      "source": [
        "**Observation :**\n",
        "\n",
        "* We could see that 'USA' has most frequently occur so we fill with mode"
      ],
      "metadata": {
        "id": "HkRWm0bStiY8"
      }
    },
    {
      "cell_type": "code",
      "source": [
        "# Filling missing values for country_code by mode\n",
        "\n",
        "df['country_code'].fillna(df['country_code'].mode()[0],inplace=True)"
      ],
      "metadata": {
        "id": "9dUnZUjNtbgu"
      },
      "execution_count": 21,
      "outputs": []
    },
    {
      "cell_type": "markdown",
      "source": [
        "**4. Let's deal with  state_code**"
      ],
      "metadata": {
        "id": "cFMG9VPvFBRD"
      }
    },
    {
      "cell_type": "code",
      "source": [
        "# Filling missing values for state_code by mode\n",
        "\n",
        "df['state_code'].fillna(df['state_code'].mode()[0],inplace=True)"
      ],
      "metadata": {
        "id": "GUFtc9YtFObE"
      },
      "execution_count": 22,
      "outputs": []
    },
    {
      "cell_type": "markdown",
      "source": [
        "**5. Let's deal with city**"
      ],
      "metadata": {
        "id": "YChMinSLLGmI"
      }
    },
    {
      "cell_type": "code",
      "source": [
        "# Filling missing values for city by mode\n",
        "\n",
        "df['city'].fillna(df['city'].mode()[0],inplace=True)"
      ],
      "metadata": {
        "id": "m4EybA_FLP6Q"
      },
      "execution_count": 23,
      "outputs": []
    },
    {
      "cell_type": "markdown",
      "source": [
        "**6. Now it's time to deal with founded_at**"
      ],
      "metadata": {
        "id": "432V-lgiL4mZ"
      }
    },
    {
      "cell_type": "code",
      "source": [
        "# Filling missing values for founded_at by mode\n",
        "\n",
        "df['founded_at'].fillna(df['founded_at'].mode()[0],inplace=True)"
      ],
      "metadata": {
        "id": "yAcwdTKcMFU-"
      },
      "execution_count": 24,
      "outputs": []
    },
    {
      "cell_type": "markdown",
      "source": [
        "**7. It's time to deal with**"
      ],
      "metadata": {
        "id": "U5DfPWijMrWy"
      }
    },
    {
      "cell_type": "code",
      "source": [
        "# # Filling missing values for first_funding_at by mode\n",
        "\n",
        "df['first_funding_at'].fillna(df['first_funding_at'].mode()[0],inplace=True)"
      ],
      "metadata": {
        "id": "L0vTsxHtMw_H"
      },
      "execution_count": 25,
      "outputs": []
    },
    {
      "cell_type": "markdown",
      "source": [
        "**8.Still we have one i.e 'name' feature has contain 1 null value so will drop single row**"
      ],
      "metadata": {
        "id": "vbfmK0tRNJcX"
      }
    },
    {
      "cell_type": "code",
      "source": [
        "# In name feature only single row conatin null values so we will drop it them\n",
        "\n",
        "df=df.dropna()"
      ],
      "metadata": {
        "id": "_lTFAwvyNZzf"
      },
      "execution_count": 26,
      "outputs": []
    },
    {
      "cell_type": "markdown",
      "source": [
        "**Now we check is there any null values**"
      ],
      "metadata": {
        "id": "9MDag-bdLRxs"
      }
    },
    {
      "cell_type": "code",
      "source": [
        "df.isnull().sum()"
      ],
      "metadata": {
        "colab": {
          "base_uri": "https://localhost:8080/"
        },
        "id": "M6tkrNTjoB8O",
        "outputId": "0b088bc9-e4bd-4657-f4d2-f8cc5456610c"
      },
      "execution_count": 27,
      "outputs": [
        {
          "output_type": "execute_result",
          "data": {
            "text/plain": [
              "name                 0\n",
              "category_list        0\n",
              "funding_total_usd    0\n",
              "status               0\n",
              "country_code         0\n",
              "state_code           0\n",
              "city                 0\n",
              "funding_rounds       0\n",
              "founded_at           0\n",
              "first_funding_at     0\n",
              "last_funding_at      0\n",
              "dtype: int64"
            ]
          },
          "metadata": {},
          "execution_count": 27
        }
      ]
    },
    {
      "cell_type": "markdown",
      "source": [
        "**Observation :**\n",
        "\n",
        "* We can see that their is no mising values in given dataset we had fill missing values or drop it"
      ],
      "metadata": {
        "id": "JU-LtheZP_C7"
      }
    },
    {
      "cell_type": "markdown",
      "source": [
        "**We are done by handling missing value it's time to remove duplicates**"
      ],
      "metadata": {
        "id": "OdMsTTyPEzgU"
      }
    },
    {
      "cell_type": "code",
      "source": [
        "# Dropping dupicates from given dataset\n",
        "\n",
        "df.drop_duplicates(inplace=True)"
      ],
      "metadata": {
        "id": "5GHdfI1DFEDB"
      },
      "execution_count": 28,
      "outputs": []
    },
    {
      "cell_type": "markdown",
      "source": [
        "# **Before jumping on visulization let's do some clustering**"
      ],
      "metadata": {
        "id": "xE16x5tKKKcQ"
      }
    },
    {
      "cell_type": "markdown",
      "source": [
        "**clustering on category_list feature**"
      ],
      "metadata": {
        "id": "TvY-YzUqNHMM"
      }
    },
    {
      "cell_type": "code",
      "source": [
        "# clustering on category_list feature\n",
        "\n",
        "catogory_lists=df['category_list'].value_counts(ascending=False)\n",
        "catogory_lists"
      ],
      "metadata": {
        "colab": {
          "base_uri": "https://localhost:8080/"
        },
        "id": "SAzvJDWnKeU-",
        "outputId": "1ff7c23d-f2f2-4eeb-c110-002b67b4ad06"
      },
      "execution_count": 29,
      "outputs": [
        {
          "output_type": "execute_result",
          "data": {
            "text/plain": [
              "Software                                                                       7142\n",
              "Biotechnology                                                                  3615\n",
              "E-Commerce                                                                     1332\n",
              "Mobile                                                                         1177\n",
              "Clean Technology                                                               1133\n",
              "                                                                               ... \n",
              "Consumer Internet|Marketplaces|Mobile|Mobile Payments|Transportation|Travel       1\n",
              "Apps|Mobile|Private Social Networking                                             1\n",
              "Cloud Computing|Enterprise Software|Infrastructure|PaaS|Social Media              1\n",
              "Content|SaaS|Social Media Marketing|Software                                      1\n",
              "Consumer Goods|E-Commerce|Internet                                                1\n",
              "Name: category_list, Length: 27296, dtype: int64"
            ]
          },
          "metadata": {},
          "execution_count": 29
        }
      ]
    },
    {
      "cell_type": "code",
      "source": [
        "catogory_list_lessthan1000=catogory_lists[catogory_lists < 1000]\n",
        "catogory_list_lessthan1000"
      ],
      "metadata": {
        "colab": {
          "base_uri": "https://localhost:8080/"
        },
        "id": "Oge4unT2LSF-",
        "outputId": "7c8f1c7c-7773-40c6-ba15-5ac5a338d11e"
      },
      "execution_count": 30,
      "outputs": [
        {
          "output_type": "execute_result",
          "data": {
            "text/plain": [
              "Hardware + Software                                                            932\n",
              "Health Care                                                                    930\n",
              "Games                                                                          862\n",
              "Enterprise Software                                                            845\n",
              "Manufacturing                                                                  773\n",
              "                                                                              ... \n",
              "Consumer Internet|Marketplaces|Mobile|Mobile Payments|Transportation|Travel      1\n",
              "Apps|Mobile|Private Social Networking                                            1\n",
              "Cloud Computing|Enterprise Software|Infrastructure|PaaS|Social Media             1\n",
              "Content|SaaS|Social Media Marketing|Software                                     1\n",
              "Consumer Goods|E-Commerce|Internet                                               1\n",
              "Name: category_list, Length: 27290, dtype: int64"
            ]
          },
          "metadata": {},
          "execution_count": 30
        }
      ]
    },
    {
      "cell_type": "code",
      "source": [
        "# Let's update them into dataset also\n",
        "\n",
        "def fun1(n):\n",
        "  if n in catogory_list_lessthan1000:\n",
        "    return 'Others Catgory'\n",
        "  else:\n",
        "    return n\n",
        "\n",
        "# Now apply function on given dataset\n",
        "\n",
        "df['category_list']=df['category_list'].apply(fun1)\n",
        "\n",
        "df['category_list'].value_counts()"
      ],
      "metadata": {
        "colab": {
          "base_uri": "https://localhost:8080/"
        },
        "id": "voI9eB0NL0Vp",
        "outputId": "fe8a60fc-71e4-434a-d136-8852a5874a61"
      },
      "execution_count": 31,
      "outputs": [
        {
          "output_type": "execute_result",
          "data": {
            "text/plain": [
              "Others Catgory      50917\n",
              "Software             7142\n",
              "Biotechnology        3615\n",
              "E-Commerce           1332\n",
              "Mobile               1177\n",
              "Clean Technology     1133\n",
              "Curated Web          1050\n",
              "Name: category_list, dtype: int64"
            ]
          },
          "metadata": {},
          "execution_count": 31
        }
      ]
    },
    {
      "cell_type": "markdown",
      "source": [
        "# **clustering on country_code**"
      ],
      "metadata": {
        "id": "8cgCpbCJNJ9v"
      }
    },
    {
      "cell_type": "code",
      "source": [
        "# clustering on country_code\n",
        "\n",
        "country_codes=df['country_code'].value_counts(ascending=False)\n",
        "country_codes"
      ],
      "metadata": {
        "colab": {
          "base_uri": "https://localhost:8080/"
        },
        "id": "tdVmXhINN9c8",
        "outputId": "4d6e618b-01cb-43fd-e44e-cc36a36d57a4"
      },
      "execution_count": 32,
      "outputs": [
        {
          "output_type": "execute_result",
          "data": {
            "text/plain": [
              "USA    44557\n",
              "GBR     3688\n",
              "CAN     1925\n",
              "IND     1596\n",
              "CHN     1544\n",
              "       ...  \n",
              "BRN        1\n",
              "BRB        1\n",
              "IRN        1\n",
              "MNE        1\n",
              "MAF        1\n",
              "Name: country_code, Length: 137, dtype: int64"
            ]
          },
          "metadata": {},
          "execution_count": 32
        }
      ]
    },
    {
      "cell_type": "code",
      "source": [
        "country_codes_lessthan1000=country_codes[country_codes < 1000]\n",
        "country_codes_lessthan1000"
      ],
      "metadata": {
        "colab": {
          "base_uri": "https://localhost:8080/"
        },
        "id": "sGXrnKxPORT-",
        "outputId": "0a54e8cd-9555-45d7-bbdb-5c780ade944f"
      },
      "execution_count": 33,
      "outputs": [
        {
          "output_type": "execute_result",
          "data": {
            "text/plain": [
              "ISR    965\n",
              "ESP    746\n",
              "AUS    503\n",
              "NLD    497\n",
              "RUS    458\n",
              "      ... \n",
              "BRN      1\n",
              "BRB      1\n",
              "IRN      1\n",
              "MNE      1\n",
              "MAF      1\n",
              "Name: country_code, Length: 130, dtype: int64"
            ]
          },
          "metadata": {},
          "execution_count": 33
        }
      ]
    },
    {
      "cell_type": "code",
      "source": [
        "# Let's update them into dataset also\n",
        "\n",
        "def fun2(n):\n",
        "  if n in country_codes_lessthan1000:\n",
        "    return 'Others country'\n",
        "  else:\n",
        "    return n\n",
        "  \n",
        "# Now apply function on given dataset\n",
        "\n",
        "df['country_code']=df['country_code'].apply(fun2)\n",
        "\n",
        "df['country_code'].value_counts()"
      ],
      "metadata": {
        "colab": {
          "base_uri": "https://localhost:8080/"
        },
        "id": "mSKdi6sMPM2z",
        "outputId": "91542262-17f7-4412-952a-3ecc72a6fd3a"
      },
      "execution_count": 34,
      "outputs": [
        {
          "output_type": "execute_result",
          "data": {
            "text/plain": [
              "USA               44557\n",
              "Others country    10839\n",
              "GBR                3688\n",
              "CAN                1925\n",
              "IND                1596\n",
              "CHN                1544\n",
              "FRA                1135\n",
              "DEU                1082\n",
              "Name: country_code, dtype: int64"
            ]
          },
          "metadata": {},
          "execution_count": 34
        }
      ]
    },
    {
      "cell_type": "markdown",
      "source": [
        "**Observation :**\n",
        "\n",
        "* Here we did clustering on catgory & country_code that have less than 1000 based on value counts "
      ],
      "metadata": {
        "id": "qlV0Pf17QSdf"
      }
    },
    {
      "cell_type": "markdown",
      "source": [
        "# **5. Summary of Statistics**"
      ],
      "metadata": {
        "id": "jntxZlzHgkK6"
      }
    },
    {
      "cell_type": "code",
      "source": [
        "display(df.describe().round(2))"
      ],
      "metadata": {
        "colab": {
          "base_uri": "https://localhost:8080/",
          "height": 300
        },
        "id": "mJtsSIP1psGT",
        "outputId": "e1c7f79b-dca8-437a-dfdd-afbc923b420c"
      },
      "execution_count": 35,
      "outputs": [
        {
          "output_type": "display_data",
          "data": {
            "text/plain": [
              "       funding_total_usd  funding_rounds\n",
              "count       6.636600e+04        66366.00\n",
              "mean        1.530463e+07            1.73\n",
              "std         1.690634e+08            1.36\n",
              "min         1.000000e+00            1.00\n",
              "25%         5.300000e+05            1.00\n",
              "50%         2.000000e+06            1.00\n",
              "75%         6.800818e+06            2.00\n",
              "max         3.007950e+10           19.00"
            ],
            "text/html": [
              "\n",
              "  <div id=\"df-8a3116ec-a290-4f7e-9f40-83b50f56e8c1\">\n",
              "    <div class=\"colab-df-container\">\n",
              "      <div>\n",
              "<style scoped>\n",
              "    .dataframe tbody tr th:only-of-type {\n",
              "        vertical-align: middle;\n",
              "    }\n",
              "\n",
              "    .dataframe tbody tr th {\n",
              "        vertical-align: top;\n",
              "    }\n",
              "\n",
              "    .dataframe thead th {\n",
              "        text-align: right;\n",
              "    }\n",
              "</style>\n",
              "<table border=\"1\" class=\"dataframe\">\n",
              "  <thead>\n",
              "    <tr style=\"text-align: right;\">\n",
              "      <th></th>\n",
              "      <th>funding_total_usd</th>\n",
              "      <th>funding_rounds</th>\n",
              "    </tr>\n",
              "  </thead>\n",
              "  <tbody>\n",
              "    <tr>\n",
              "      <th>count</th>\n",
              "      <td>6.636600e+04</td>\n",
              "      <td>66366.00</td>\n",
              "    </tr>\n",
              "    <tr>\n",
              "      <th>mean</th>\n",
              "      <td>1.530463e+07</td>\n",
              "      <td>1.73</td>\n",
              "    </tr>\n",
              "    <tr>\n",
              "      <th>std</th>\n",
              "      <td>1.690634e+08</td>\n",
              "      <td>1.36</td>\n",
              "    </tr>\n",
              "    <tr>\n",
              "      <th>min</th>\n",
              "      <td>1.000000e+00</td>\n",
              "      <td>1.00</td>\n",
              "    </tr>\n",
              "    <tr>\n",
              "      <th>25%</th>\n",
              "      <td>5.300000e+05</td>\n",
              "      <td>1.00</td>\n",
              "    </tr>\n",
              "    <tr>\n",
              "      <th>50%</th>\n",
              "      <td>2.000000e+06</td>\n",
              "      <td>1.00</td>\n",
              "    </tr>\n",
              "    <tr>\n",
              "      <th>75%</th>\n",
              "      <td>6.800818e+06</td>\n",
              "      <td>2.00</td>\n",
              "    </tr>\n",
              "    <tr>\n",
              "      <th>max</th>\n",
              "      <td>3.007950e+10</td>\n",
              "      <td>19.00</td>\n",
              "    </tr>\n",
              "  </tbody>\n",
              "</table>\n",
              "</div>\n",
              "      <button class=\"colab-df-convert\" onclick=\"convertToInteractive('df-8a3116ec-a290-4f7e-9f40-83b50f56e8c1')\"\n",
              "              title=\"Convert this dataframe to an interactive table.\"\n",
              "              style=\"display:none;\">\n",
              "        \n",
              "  <svg xmlns=\"http://www.w3.org/2000/svg\" height=\"24px\"viewBox=\"0 0 24 24\"\n",
              "       width=\"24px\">\n",
              "    <path d=\"M0 0h24v24H0V0z\" fill=\"none\"/>\n",
              "    <path d=\"M18.56 5.44l.94 2.06.94-2.06 2.06-.94-2.06-.94-.94-2.06-.94 2.06-2.06.94zm-11 1L8.5 8.5l.94-2.06 2.06-.94-2.06-.94L8.5 2.5l-.94 2.06-2.06.94zm10 10l.94 2.06.94-2.06 2.06-.94-2.06-.94-.94-2.06-.94 2.06-2.06.94z\"/><path d=\"M17.41 7.96l-1.37-1.37c-.4-.4-.92-.59-1.43-.59-.52 0-1.04.2-1.43.59L10.3 9.45l-7.72 7.72c-.78.78-.78 2.05 0 2.83L4 21.41c.39.39.9.59 1.41.59.51 0 1.02-.2 1.41-.59l7.78-7.78 2.81-2.81c.8-.78.8-2.07 0-2.86zM5.41 20L4 18.59l7.72-7.72 1.47 1.35L5.41 20z\"/>\n",
              "  </svg>\n",
              "      </button>\n",
              "      \n",
              "  <style>\n",
              "    .colab-df-container {\n",
              "      display:flex;\n",
              "      flex-wrap:wrap;\n",
              "      gap: 12px;\n",
              "    }\n",
              "\n",
              "    .colab-df-convert {\n",
              "      background-color: #E8F0FE;\n",
              "      border: none;\n",
              "      border-radius: 50%;\n",
              "      cursor: pointer;\n",
              "      display: none;\n",
              "      fill: #1967D2;\n",
              "      height: 32px;\n",
              "      padding: 0 0 0 0;\n",
              "      width: 32px;\n",
              "    }\n",
              "\n",
              "    .colab-df-convert:hover {\n",
              "      background-color: #E2EBFA;\n",
              "      box-shadow: 0px 1px 2px rgba(60, 64, 67, 0.3), 0px 1px 3px 1px rgba(60, 64, 67, 0.15);\n",
              "      fill: #174EA6;\n",
              "    }\n",
              "\n",
              "    [theme=dark] .colab-df-convert {\n",
              "      background-color: #3B4455;\n",
              "      fill: #D2E3FC;\n",
              "    }\n",
              "\n",
              "    [theme=dark] .colab-df-convert:hover {\n",
              "      background-color: #434B5C;\n",
              "      box-shadow: 0px 1px 3px 1px rgba(0, 0, 0, 0.15);\n",
              "      filter: drop-shadow(0px 1px 2px rgba(0, 0, 0, 0.3));\n",
              "      fill: #FFFFFF;\n",
              "    }\n",
              "  </style>\n",
              "\n",
              "      <script>\n",
              "        const buttonEl =\n",
              "          document.querySelector('#df-8a3116ec-a290-4f7e-9f40-83b50f56e8c1 button.colab-df-convert');\n",
              "        buttonEl.style.display =\n",
              "          google.colab.kernel.accessAllowed ? 'block' : 'none';\n",
              "\n",
              "        async function convertToInteractive(key) {\n",
              "          const element = document.querySelector('#df-8a3116ec-a290-4f7e-9f40-83b50f56e8c1');\n",
              "          const dataTable =\n",
              "            await google.colab.kernel.invokeFunction('convertToInteractive',\n",
              "                                                     [key], {});\n",
              "          if (!dataTable) return;\n",
              "\n",
              "          const docLinkHtml = 'Like what you see? Visit the ' +\n",
              "            '<a target=\"_blank\" href=https://colab.research.google.com/notebooks/data_table.ipynb>data table notebook</a>'\n",
              "            + ' to learn more about interactive tables.';\n",
              "          element.innerHTML = '';\n",
              "          dataTable['output_type'] = 'display_data';\n",
              "          await google.colab.output.renderOutput(dataTable, element);\n",
              "          const docLink = document.createElement('div');\n",
              "          docLink.innerHTML = docLinkHtml;\n",
              "          element.appendChild(docLink);\n",
              "        }\n",
              "      </script>\n",
              "    </div>\n",
              "  </div>\n",
              "  "
            ]
          },
          "metadata": {}
        }
      ]
    },
    {
      "cell_type": "markdown",
      "source": [
        "# **6.Skewness and kurtosis**"
      ],
      "metadata": {
        "id": "CE3S3DJOg_y6"
      }
    },
    {
      "cell_type": "markdown",
      "source": [
        "**Skewness & Kurtosis for 'funding_rounds' feature**"
      ],
      "metadata": {
        "id": "JaZ7LwgphqpY"
      }
    },
    {
      "cell_type": "code",
      "source": [
        "# Skewness\n",
        "print('Skewness : {}'.format(df['funding_rounds'].skew().round(3)))\n",
        "\n",
        "# kurtosis\n",
        "print('Kurtosis : {}'.format(df['funding_rounds'].kurt().round(4)))"
      ],
      "metadata": {
        "colab": {
          "base_uri": "https://localhost:8080/"
        },
        "id": "Kd994jPKgp53",
        "outputId": "9fb6df9c-8840-4dd6-ee42-c2d9a53a5c93"
      },
      "execution_count": 36,
      "outputs": [
        {
          "output_type": "stream",
          "name": "stdout",
          "text": [
            "Skewness : 3.045\n",
            "Kurtosis : 13.9779\n"
          ]
        }
      ]
    },
    {
      "cell_type": "markdown",
      "source": [
        "# **7. Distributions of the variables/features**"
      ],
      "metadata": {
        "id": "Asa8fqqaiEmS"
      }
    },
    {
      "cell_type": "code",
      "source": [
        "df.hist(figsize=(16,10),bins=20)\n",
        "plt.show()"
      ],
      "metadata": {
        "colab": {
          "base_uri": "https://localhost:8080/",
          "height": 608
        },
        "id": "5SaG6RQsj5CS",
        "outputId": "15461073-63d2-4a73-fac2-8d8be7ba72e5"
      },
      "execution_count": 37,
      "outputs": [
        {
          "output_type": "display_data",
          "data": {
            "text/plain": [
              "<Figure size 1152x720 with 4 Axes>"
            ],
            "image/png": "[encoded data removed]"
          },
          "metadata": {
            "needs_background": "light"
          }
        }
      ]
    },
    {
      "cell_type": "markdown",
      "source": [
        "**Observation :**\n",
        "* Every company get funding_total_usd their we can observe their is 0 companies they don't get funding.\n",
        "\n",
        "* The most funding rounds are 4"
      ],
      "metadata": {
        "id": "R6K_v1hVnSjq"
      }
    },
    {
      "cell_type": "markdown",
      "source": [
        "#**8.Correlation**"
      ],
      "metadata": {
        "id": "o6vKqrZ7pPUi"
      }
    },
    {
      "cell_type": "markdown",
      "source": [
        "**By Heatmap the relationship between the numerical features**"
      ],
      "metadata": {
        "id": "Wn2pIjLYpusy"
      }
    },
    {
      "cell_type": "code",
      "source": [
        "plt.rcParams['figure.figsize']=(10,8)\n",
        "\n",
        "sns.heatmap(df.corr(),cmap=plt.cm.Reds,annot=True)\n",
        "\n",
        "plt.title('Heatmap the relationship between the numerical features',fontsize=13)\n",
        "plt.show()"
      ],
      "metadata": {
        "colab": {
          "base_uri": "https://localhost:8080/",
          "height": 500
        },
        "id": "ifmnKMfLmT5M",
        "outputId": "a97db29e-19e8-4680-b3c9-a6d99b031a04"
      },
      "execution_count": 38,
      "outputs": [
        {
          "output_type": "display_data",
          "data": {
            "text/plain": [
              "<Figure size 720x576 with 2 Axes>"
            ],
            "image/png": "[encoded data removed]"
          },
          "metadata": {
            "needs_background": "light"
          }
        }
      ]
    },
    {
      "cell_type": "markdown",
      "source": [
        "**Observation :**\n",
        "\n",
        "* Dark color represents a positive correlation between funding_total_usd & funding_rounds.\n",
        "* Light color/ white is a towards the negative correlation funding_total_usd & funding_rounds."
      ],
      "metadata": {
        "id": "IH_-Q2edstZN"
      }
    },
    {
      "cell_type": "code",
      "source": [
        "df.columns"
      ],
      "metadata": {
        "id": "4X1bXV-aqtBn",
        "colab": {
          "base_uri": "https://localhost:8080/"
        },
        "outputId": "7dbe1e28-814c-481d-cbe8-4a7b31ca5f09"
      },
      "execution_count": 39,
      "outputs": [
        {
          "output_type": "execute_result",
          "data": {
            "text/plain": [
              "Index(['name', 'category_list', 'funding_total_usd', 'status', 'country_code',\n",
              "       'state_code', 'city', 'funding_rounds', 'founded_at',\n",
              "       'first_funding_at', 'last_funding_at'],\n",
              "      dtype='object')"
            ]
          },
          "metadata": {},
          "execution_count": 39
        }
      ]
    },
    {
      "cell_type": "code",
      "source": [
        "df['founded_at'].value_counts()"
      ],
      "metadata": {
        "colab": {
          "base_uri": "https://localhost:8080/"
        },
        "id": "ORNOLTJhtlY_",
        "outputId": "e3229ce1-c140-4c9c-8b7d-2508cb538166"
      },
      "execution_count": 40,
      "outputs": [
        {
          "output_type": "execute_result",
          "data": {
            "text/plain": [
              "2012-01-01    17955\n",
              "2011-01-01     2495\n",
              "2013-01-01     2471\n",
              "2010-01-01     2109\n",
              "2009-01-01     1796\n",
              "              ...  \n",
              "2003-02-15        1\n",
              "2008-09-26        1\n",
              "1986-01-16        1\n",
              "2009-08-16        1\n",
              "2006-10-27        1\n",
              "Name: founded_at, Length: 3974, dtype: int64"
            ]
          },
          "metadata": {},
          "execution_count": 40
        }
      ]
    },
    {
      "cell_type": "markdown",
      "source": [
        "# **Now data is clean**\n",
        "\n",
        "# **It's time to data visulization**"
      ],
      "metadata": {
        "id": "y-J4GcjqI5GX"
      }
    },
    {
      "cell_type": "markdown",
      "source": [
        "# **9 .Univariate Analysis**"
      ],
      "metadata": {
        "id": "7MZRZeYtcgd7"
      }
    },
    {
      "cell_type": "code",
      "source": [
        "# The univariate analysis basically tells us how data in each feature is distributed\n",
        "\n",
        "sns_plot = sns.distplot(df['funding_rounds'])\n",
        "plt.title('univariate analysis basically tells us how data in each feature is distributed')"
      ],
      "metadata": {
        "colab": {
          "base_uri": "https://localhost:8080/",
          "height": 586
        },
        "id": "np8GCGDxcgFH",
        "outputId": "d62d7e92-98ef-4467-cd42-0c4f2508b0a3"
      },
      "execution_count": 41,
      "outputs": [
        {
          "output_type": "stream",
          "name": "stderr",
          "text": [
            "/usr/local/lib/python3.8/dist-packages/seaborn/distributions.py:2619: FutureWarning: `distplot` is a deprecated function and will be removed in a future version. Please adapt your code to use either `displot` (a figure-level function with similar flexibility) or `histplot` (an axes-level function for histograms).\n",
            "  warnings.warn(msg, FutureWarning)\n"
          ]
        },
        {
          "output_type": "execute_result",
          "data": {
            "text/plain": [
              "Text(0.5, 1.0, 'univariate analysis basically tells us how data in each feature is distributed')"
            ]
          },
          "metadata": {},
          "execution_count": 41
        },
        {
          "output_type": "display_data",
          "data": {
            "text/plain": [
              "<Figure size 720x576 with 1 Axes>"
            ],
            "image/png": "[encoded data removed]"
          },
          "metadata": {
            "needs_background": "light"
          }
        }
      ]
    },
    {
      "cell_type": "markdown",
      "source": [
        "**Observation :**\n",
        "\n",
        "* The data is distributed by funding rounds from 1 to 19."
      ],
      "metadata": {
        "id": "lP8PgJvCeTBK"
      }
    },
    {
      "cell_type": "markdown",
      "source": [
        "# **10. Bivariate Analysis :**"
      ],
      "metadata": {
        "id": "Qf_bCYpBfuJo"
      }
    },
    {
      "cell_type": "code",
      "source": [
        "# Grouping variables\n",
        "var=['funding_rounds','funding_total_usd']\n",
        "\n",
        "# scatter plot\n",
        "plt.figure(dpi=140)\n",
        "sns.pairplot(df[var])\n",
        "plt.show()"
      ],
      "metadata": {
        "colab": {
          "base_uri": "https://localhost:8080/",
          "height": 391
        },
        "id": "kXGZbKgmKMvV",
        "outputId": "c1c7ed38-33e1-448a-c9d3-554881ba3887"
      },
      "execution_count": 42,
      "outputs": [
        {
          "output_type": "display_data",
          "data": {
            "text/plain": [
              "<Figure size 1400x1120 with 0 Axes>"
            ]
          },
          "metadata": {}
        },
        {
          "output_type": "display_data",
          "data": {
            "text/plain": [
              "<Figure size 360x360 with 6 Axes>"
            ],
            "image/png": "[encoded data removed]"
          },
          "metadata": {
            "needs_background": "light"
          }
        }
      ]
    },
    {
      "cell_type": "code",
      "source": [
        "df.columns"
      ],
      "metadata": {
        "colab": {
          "base_uri": "https://localhost:8080/"
        },
        "id": "kQKZWDXrKk2j",
        "outputId": "49bad076-3b33-4b8f-fdb6-49ee9a0300c7"
      },
      "execution_count": 43,
      "outputs": [
        {
          "output_type": "execute_result",
          "data": {
            "text/plain": [
              "Index(['name', 'category_list', 'funding_total_usd', 'status', 'country_code',\n",
              "       'state_code', 'city', 'funding_rounds', 'founded_at',\n",
              "       'first_funding_at', 'last_funding_at'],\n",
              "      dtype='object')"
            ]
          },
          "metadata": {},
          "execution_count": 43
        }
      ]
    },
    {
      "cell_type": "markdown",
      "source": [
        "# **11. Data Visuilization in detail**"
      ],
      "metadata": {
        "id": "w5RPiibeOubn"
      }
    },
    {
      "cell_type": "markdown",
      "source": [
        "**Finding Top catgory_list companies**"
      ],
      "metadata": {
        "id": "lgrlO3iVQx7K"
      }
    },
    {
      "cell_type": "code",
      "source": [
        "plt.rcParams['figure.figsize']=(16,10)\n",
        "\n",
        "sns.countplot(x='category_list',data=df)\n",
        "\n",
        "plt.title('Most catgory_list companies')\n",
        "\n",
        "plt.xlabel('Category lists')\n",
        "plt.show()"
      ],
      "metadata": {
        "colab": {
          "base_uri": "https://localhost:8080/",
          "height": 621
        },
        "id": "dpLTxV9_QvUq",
        "outputId": "45a25438-066d-49c9-f523-3bda99fd7c01"
      },
      "execution_count": 44,
      "outputs": [
        {
          "output_type": "display_data",
          "data": {
            "text/plain": [
              "<Figure size 1152x720 with 1 Axes>"
            ],
            "image/png": "[encoded data removed]"
          },
          "metadata": {
            "needs_background": "light"
          }
        }
      ]
    },
    {
      "cell_type": "code",
      "source": [
        "catogory_lists_names=df.category_list.value_counts().index\n",
        "catogory_lists_names"
      ],
      "metadata": {
        "colab": {
          "base_uri": "https://localhost:8080/"
        },
        "id": "goeCksrQTWD1",
        "outputId": "74a2363e-13f6-4488-bf77-b576c68c8e22"
      },
      "execution_count": 45,
      "outputs": [
        {
          "output_type": "execute_result",
          "data": {
            "text/plain": [
              "Index(['Others Catgory', 'Software', 'Biotechnology', 'E-Commerce', 'Mobile',\n",
              "       'Clean Technology', 'Curated Web'],\n",
              "      dtype='object')"
            ]
          },
          "metadata": {},
          "execution_count": 45
        }
      ]
    },
    {
      "cell_type": "code",
      "source": [
        "catogory_lists_values=df.category_list.value_counts().values\n",
        "catogory_lists_values"
      ],
      "metadata": {
        "colab": {
          "base_uri": "https://localhost:8080/"
        },
        "id": "ziy6JFxJT1ak",
        "outputId": "7020b920-ea74-4539-f02f-c6832f6ef4a4"
      },
      "execution_count": 46,
      "outputs": [
        {
          "output_type": "execute_result",
          "data": {
            "text/plain": [
              "array([50917,  7142,  3615,  1332,  1177,  1133,  1050])"
            ]
          },
          "metadata": {},
          "execution_count": 46
        }
      ]
    },
    {
      "cell_type": "markdown",
      "source": [
        "**Observation:**\n",
        "\n",
        "* Software catgory has around 9,000 companies.\n",
        "* Biotechnoly catgory has around 7,000 companies.\n",
        "* Also, E Commerce catgory has around 1,500 companies.\n",
        "* In Others catgory are more than 50,000 companies."
      ],
      "metadata": {
        "id": "frpCS04FVk4l"
      }
    },
    {
      "cell_type": "markdown",
      "source": [
        "**TOP 3 catgories list of companies by percentage**"
      ],
      "metadata": {
        "id": "gJXe_9nmVc01"
      }
    },
    {
      "cell_type": "code",
      "source": [
        "# pie plot\n",
        "\n",
        "plt.pie(catogory_lists_values[:3],labels=catogory_lists_names[:3],autopct='%1.2f%%')"
      ],
      "metadata": {
        "colab": {
          "base_uri": "https://localhost:8080/",
          "height": 731
        },
        "id": "y476h2AmTF6G",
        "outputId": "4f764e5a-7f4f-45b5-df66-dbc0693c639c"
      },
      "execution_count": 47,
      "outputs": [
        {
          "output_type": "execute_result",
          "data": {
            "text/plain": [
              "([<matplotlib.patches.Wedge at 0x7f3c4964c1c0>,\n",
              "  <matplotlib.patches.Wedge at 0x7f3c4965b700>,\n",
              "  <matplotlib.patches.Wedge at 0x7f3c4966b220>],\n",
              " [Text(-0.9389551453785004, 0.5730298726656747, 'Others Catgory'),\n",
              "  Text(0.8181563937368244, -0.7352687368490207, 'Software'),\n",
              "  Text(1.0814028356726388, -0.20141476360777524, 'Biotechnology')],\n",
              " [Text(-0.5121573520246365, 0.31256174872673165, '82.56%'),\n",
              "  Text(0.4462671238564496, -0.40105567464492037, '11.58%'),\n",
              "  Text(0.5898560921850756, -0.10986259833151375, '5.86%')])"
            ]
          },
          "metadata": {},
          "execution_count": 47
        },
        {
          "output_type": "display_data",
          "data": {
            "text/plain": [
              "<Figure size 1152x720 with 1 Axes>"
            ],
            "image/png": "[encoded data removed]"
          },
          "metadata": {}
        }
      ]
    },
    {
      "cell_type": "markdown",
      "source": [
        "**Observation :**\n",
        "\n",
        "* We can observe that biotechnology has 5.86%  \n",
        "* software has 11.58% they are top 2 catgories"
      ],
      "metadata": {
        "id": "pzkMV7xXUnFG"
      }
    },
    {
      "cell_type": "markdown",
      "source": [
        "**Box plot OR Whiskers plot**"
      ],
      "metadata": {
        "id": "C2BzAKiFZNm8"
      }
    },
    {
      "cell_type": "markdown",
      "source": [
        "**Box plot of Funding rounds Vs status**"
      ],
      "metadata": {
        "id": "2gqjAWUm4NQE"
      }
    },
    {
      "cell_type": "code",
      "source": [
        "sns.boxplot(x='funding_rounds',y='status',data=df)\n",
        "plt.title('Box plot of Funding rounds Vs status')"
      ],
      "metadata": {
        "colab": {
          "base_uri": "https://localhost:8080/",
          "height": 639
        },
        "id": "fr4urQhJ3Tig",
        "outputId": "b3ab8219-fca9-4158-9892-5e10f9b0becf"
      },
      "execution_count": 48,
      "outputs": [
        {
          "output_type": "execute_result",
          "data": {
            "text/plain": [
              "Text(0.5, 1.0, 'Box plot of Funding rounds Vs status')"
            ]
          },
          "metadata": {},
          "execution_count": 48
        },
        {
          "output_type": "display_data",
          "data": {
            "text/plain": [
              "<Figure size 1152x720 with 1 Axes>"
            ],
            "image/png": "[encoded data removed]"
          },
          "metadata": {
            "needs_background": "light"
          }
        }
      ]
    },
    {
      "cell_type": "markdown",
      "source": [
        "**Observation :**\n",
        "\n",
        "* Boxplot of \"Operating\" had only 75th percentile value at funding rounds and the 25th and 50th percentiles are overlapped. \n",
        "\n",
        "* Boxplot of \"acquired\" had only 75th percentile value at funding rounds, 50th percentile value at 3 rounds\n",
        "\n",
        "* Boxplot of \"closed\" had only value at 1 rounds\n",
        "\n",
        "* Boxplot of \"ipo\" had 75th percentile value at funding rounds, 50th percentile value at 1 rounds"
      ],
      "metadata": {
        "id": "sD43UIzf4InE"
      }
    },
    {
      "cell_type": "markdown",
      "source": [
        "**Funding Rounds Range by histplot**"
      ],
      "metadata": {
        "id": "uk26RoikJf8_"
      }
    },
    {
      "cell_type": "code",
      "source": [
        "plt.hist(df['funding_rounds'],color='orange')\n",
        "plt.title(\"funding_rounds ranging\")\n",
        "plt.xlabel(\"funding_rounds\")\n",
        "plt.show()"
      ],
      "metadata": {
        "colab": {
          "base_uri": "https://localhost:8080/",
          "height": 622
        },
        "id": "7IieKI7CI8lc",
        "outputId": "83c520d7-c21e-43f5-9e29-9b60d51a9d56"
      },
      "execution_count": 49,
      "outputs": [
        {
          "output_type": "display_data",
          "data": {
            "text/plain": [
              "<Figure size 1152x720 with 1 Axes>"
            ],
            "image/png": "[encoded data removed]"
          },
          "metadata": {
            "needs_background": "light"
          }
        }
      ]
    },
    {
      "cell_type": "markdown",
      "source": [
        "**Most Comapnies Founded at which year**"
      ],
      "metadata": {
        "id": "fKZBo5qmCqHo"
      }
    },
    {
      "cell_type": "code",
      "source": [
        "founded_ats=(df['founded_at'].dt.year).value_counts().index\n",
        "founded_ats"
      ],
      "metadata": {
        "colab": {
          "base_uri": "https://localhost:8080/"
        },
        "id": "EEVGELa7CptQ",
        "outputId": "850933a7-d1f4-4933-ab58-09a4619b6bb3"
      },
      "execution_count": 50,
      "outputs": [
        {
          "output_type": "execute_result",
          "data": {
            "text/plain": [
              "Int64Index([2012, 2013, 2011, 2014, 2010, 2009, 2008, 2007, 2006, 2015,\n",
              "            ...\n",
              "            1909, 1857, 1896, 2041, 1905, 1872, 1845, 1916, 1855, 1831],\n",
              "           dtype='int64', length=176)"
            ]
          },
          "metadata": {},
          "execution_count": 50
        }
      ]
    },
    {
      "cell_type": "code",
      "source": [
        "founded_values=(df['founded_at'].dt.year).value_counts().values\n",
        "founded_values"
      ],
      "metadata": {
        "colab": {
          "base_uri": "https://localhost:8080/"
        },
        "id": "6XBXiC9sDnhc",
        "outputId": "38ab5acf-6fad-47bc-8b6c-30f979b261ea"
      },
      "execution_count": 51,
      "outputs": [
        {
          "output_type": "execute_result",
          "data": {
            "text/plain": [
              "array([21650,  6259,  5623,  4964,  4252,  3323,  2626,  2531,  1967,\n",
              "        1578,  1559,  1281,  1080,  1076,   949,   911,   909,   571,\n",
              "         458,   400,   271,   193,   176,   149,   117,   116,   112,\n",
              "          92,    91,    90,    83,    76,    69,    49,    47,    47,\n",
              "          42,    30,    27,    23,    23,    22,    21,    17,    17,\n",
              "          16,    15,    14,    12,    11,    11,     9,     9,     9,\n",
              "           8,     7,     7,     6,     6,     6,     6,     6,     5,\n",
              "           5,     5,     5,     5,     5,     4,     4,     4,     4,\n",
              "           4,     4,     4,     4,     4,     4,     4,     4,     4,\n",
              "           4,     3,     3,     3,     3,     3,     3,     3,     3,\n",
              "           3,     3,     3,     3,     3,     3,     3,     3,     2,\n",
              "           2,     2,     2,     2,     2,     2,     2,     2,     2,\n",
              "           2,     2,     2,     2,     2,     2,     2,     2,     2,\n",
              "           2,     2,     2,     2,     2,     2,     2,     2,     2,\n",
              "           2,     1,     1,     1,     1,     1,     1,     1,     1,\n",
              "           1,     1,     1,     1,     1,     1,     1,     1,     1,\n",
              "           1,     1,     1,     1,     1,     1,     1,     1,     1,\n",
              "           1,     1,     1,     1,     1,     1,     1,     1,     1,\n",
              "           1,     1,     1,     1,     1,     1,     1,     1,     1,\n",
              "           1,     1,     1,     1,     1])"
            ]
          },
          "metadata": {},
          "execution_count": 51
        }
      ]
    },
    {
      "cell_type": "code",
      "source": [
        "plt.rcParams['figure.figsize']=(16,10)\n",
        "plt.pie(founded_values[:10],labels=founded_ats[:10],autopct='%1.2f%%')\n",
        "plt.title('Most Comapnies Founded at which year')"
      ],
      "metadata": {
        "colab": {
          "base_uri": "https://localhost:8080/",
          "height": 608
        },
        "id": "RsyBXSllDznK",
        "outputId": "8d3d4216-3232-4693-b9c9-0d2839351e28"
      },
      "execution_count": 52,
      "outputs": [
        {
          "output_type": "execute_result",
          "data": {
            "text/plain": [
              "Text(0.5, 1.0, 'Most Comapnies Founded at which year')"
            ]
          },
          "metadata": {},
          "execution_count": 52
        },
        {
          "output_type": "display_data",
          "data": {
            "text/plain": [
              "<Figure size 1152x720 with 1 Axes>"
            ],
            "image/png": "[encoded data removed]"
          },
          "metadata": {}
        }
      ]
    },
    {
      "cell_type": "markdown",
      "source": [
        "**Observation :**\n",
        "\n",
        "* Most Companies founded in 2012 around 39.53%\n",
        "\n",
        "* In 2013 & 2010 around 11.43% are founded.\n",
        "\n",
        "* Also,before 2014 around 1-9% companies are founded."
      ],
      "metadata": {
        "id": "16SlQw9KFgLq"
      }
    },
    {
      "cell_type": "markdown",
      "source": [
        "**WordCloud visual representation of word frequency of catgory_list**"
      ],
      "metadata": {
        "id": "8x87TgJkPKcO"
      }
    },
    {
      "cell_type": "markdown",
      "source": [
        "**Most of the funding usd by companies catgory wise**"
      ],
      "metadata": {
        "id": "oCyrRmZ6WyrW"
      }
    },
    {
      "cell_type": "code",
      "source": [
        "# Most of the funding usd by companies catgory wise\n",
        "\n",
        "plt.figure(figsize=(16,10))\n",
        "df.groupby('category_list')['funding_total_usd'].max().plot.bar(color=['red','orange'])\n",
        "plt.ylabel('funding_total_usd')\n",
        "sns.despine()\n",
        "plt.show()"
      ],
      "metadata": {
        "id": "vaihSvTcW4KI",
        "colab": {
          "base_uri": "https://localhost:8080/",
          "height": 695
        },
        "outputId": "b2311378-a4a3-4d97-a92c-9f47b8d7d6bf"
      },
      "execution_count": 53,
      "outputs": [
        {
          "output_type": "display_data",
          "data": {
            "text/plain": [
              "<Figure size 1152x720 with 1 Axes>"
            ],
            "image/png": "[encoded data removed]"
          },
          "metadata": {
            "needs_background": "light"
          }
        }
      ]
    },
    {
      "cell_type": "markdown",
      "source": [
        "**Observation :**\n",
        "\n",
        "* E-Commerce catgories got maximum funding total usd\n",
        "* Followed by biotechnology has 2nd highest one that they got funding total usd\n",
        "* Clean technology has 3rd highest catgory that got funding total usd\n",
        "* Mobile & softwre catgories got same funding total usd\n",
        "* Curated web is the most lowest catgories that got lowest funding usd"
      ],
      "metadata": {
        "id": "f2h60nxxYgLG"
      }
    },
    {
      "cell_type": "markdown",
      "source": [
        "**Total count of company status**"
      ],
      "metadata": {
        "id": "VMoKU5R1I1js"
      }
    },
    {
      "cell_type": "code",
      "source": [
        "sns.countplot(x='status',data=df,color='green')\n",
        "sns.set_style('whitegrid')\n",
        "plt.title('Total count of company status')"
      ],
      "metadata": {
        "id": "0SsBXvu3HbkQ",
        "colab": {
          "base_uri": "https://localhost:8080/",
          "height": 638
        },
        "outputId": "2bd70f63-f801-45f3-afd8-44c049610caa"
      },
      "execution_count": 54,
      "outputs": [
        {
          "output_type": "execute_result",
          "data": {
            "text/plain": [
              "Text(0.5, 1.0, 'Total count of company status')"
            ]
          },
          "metadata": {},
          "execution_count": 54
        },
        {
          "output_type": "display_data",
          "data": {
            "text/plain": [
              "<Figure size 1152x720 with 1 Axes>"
            ],
            "image/png": "[encoded data removed]"
          },
          "metadata": {
            "needs_background": "light"
          }
        }
      ]
    },
    {
      "cell_type": "markdown",
      "source": [
        "**Observation :**\n",
        "\n",
        "* Highest company status is operating around 55,000\n",
        "* The 2nd highest status is closed is 8000 followed by acquired\n",
        "* Lowest companies status is IPO they are near 2000 "
      ],
      "metadata": {
        "id": "jbrac6SeJvye"
      }
    },
    {
      "cell_type": "markdown",
      "source": [
        "**How many total companies are located in different countries**"
      ],
      "metadata": {
        "id": "ELinx58TMD1F"
      }
    },
    {
      "cell_type": "code",
      "source": [
        "sns.countplot(x='country_code',data=df,color='yellow')\n",
        "plt.title('Total companies are located in different countries')\n",
        "plt.show()"
      ],
      "metadata": {
        "id": "EfaQBAMbMDHx",
        "colab": {
          "base_uri": "https://localhost:8080/",
          "height": 622
        },
        "outputId": "c892f7e3-67be-476f-869d-6abccd4eb2f0"
      },
      "execution_count": 55,
      "outputs": [
        {
          "output_type": "display_data",
          "data": {
            "text/plain": [
              "<Figure size 1152x720 with 1 Axes>"
            ],
            "image/png": "[encoded data removed]"
          },
          "metadata": {}
        }
      ]
    },
    {
      "cell_type": "markdown",
      "source": [
        "**Observation :**\n",
        "\n",
        "* In USA most of the companies are located total count is 46,000\n",
        "\n",
        "* In GBR i.e United Kingdom(UK) their are total 4,000 companies are located\n",
        "\n",
        "* In India,China & Canda their are same number of companies is around 2,000\n",
        "\n",
        "* The Country code of DEU i.e Germany & france also 1,000 companies are located"
      ],
      "metadata": {
        "id": "uF_ZDEWJNZ7y"
      }
    },
    {
      "cell_type": "markdown",
      "source": [
        "**Which Countries how many companies are located by status wise**"
      ],
      "metadata": {
        "id": "xGljn9cdRMkr"
      }
    },
    {
      "cell_type": "code",
      "source": [
        "# Which Countries how many companies are located\n",
        "\n",
        "df1=df.groupby(['country_code','status'])['name'].count()\n",
        "df1.to_csv('location_online.csv')\n",
        "df1=pd.read_csv('location_online.csv')\n",
        "\n",
        "df1=pd.pivot_table(df1,values=None,index=['country_code'],columns=['status'],fill_value=0,aggfunc=np.sum)\n",
        "df1"
      ],
      "metadata": {
        "id": "n24r_HdZP1Zx",
        "colab": {
          "base_uri": "https://localhost:8080/",
          "height": 363
        },
        "outputId": "34cd4512-cb91-45e3-c41d-c5ba5cb1bc25"
      },
      "execution_count": 56,
      "outputs": [
        {
          "output_type": "execute_result",
          "data": {
            "text/plain": [
              "                   name                       \n",
              "status         acquired closed   ipo operating\n",
              "country_code                                  \n",
              "CAN                 156    158    81      1530\n",
              "CHN                  33     66    81      1364\n",
              "DEU                  90     77    14       901\n",
              "FRA                  71     91    19       954\n",
              "GBR                 227    281    32      3148\n",
              "IND                  49     69    11      1467\n",
              "Others country      467    938   160      9274\n",
              "USA                4456   4557  1149     34395"
            ],
            "text/html": [
              "\n",
              "  <div id=\"df-0339bfa6-aa5e-4592-a3c3-cffa05739a03\">\n",
              "    <div class=\"colab-df-container\">\n",
              "      <div>\n",
              "<style scoped>\n",
              "    .dataframe tbody tr th:only-of-type {\n",
              "        vertical-align: middle;\n",
              "    }\n",
              "\n",
              "    .dataframe tbody tr th {\n",
              "        vertical-align: top;\n",
              "    }\n",
              "\n",
              "    .dataframe thead tr th {\n",
              "        text-align: left;\n",
              "    }\n",
              "\n",
              "    .dataframe thead tr:last-of-type th {\n",
              "        text-align: right;\n",
              "    }\n",
              "</style>\n",
              "<table border=\"1\" class=\"dataframe\">\n",
              "  <thead>\n",
              "    <tr>\n",
              "      <th></th>\n",
              "      <th colspan=\"4\" halign=\"left\">name</th>\n",
              "    </tr>\n",
              "    <tr>\n",
              "      <th>status</th>\n",
              "      <th>acquired</th>\n",
              "      <th>closed</th>\n",
              "      <th>ipo</th>\n",
              "      <th>operating</th>\n",
              "    </tr>\n",
              "    <tr>\n",
              "      <th>country_code</th>\n",
              "      <th></th>\n",
              "      <th></th>\n",
              "      <th></th>\n",
              "      <th></th>\n",
              "    </tr>\n",
              "  </thead>\n",
              "  <tbody>\n",
              "    <tr>\n",
              "      <th>CAN</th>\n",
              "      <td>156</td>\n",
              "      <td>158</td>\n",
              "      <td>81</td>\n",
              "      <td>1530</td>\n",
              "    </tr>\n",
              "    <tr>\n",
              "      <th>CHN</th>\n",
              "      <td>33</td>\n",
              "      <td>66</td>\n",
              "      <td>81</td>\n",
              "      <td>1364</td>\n",
              "    </tr>\n",
              "    <tr>\n",
              "      <th>DEU</th>\n",
              "      <td>90</td>\n",
              "      <td>77</td>\n",
              "      <td>14</td>\n",
              "      <td>901</td>\n",
              "    </tr>\n",
              "    <tr>\n",
              "      <th>FRA</th>\n",
              "      <td>71</td>\n",
              "      <td>91</td>\n",
              "      <td>19</td>\n",
              "      <td>954</td>\n",
              "    </tr>\n",
              "    <tr>\n",
              "      <th>GBR</th>\n",
              "      <td>227</td>\n",
              "      <td>281</td>\n",
              "      <td>32</td>\n",
              "      <td>3148</td>\n",
              "    </tr>\n",
              "    <tr>\n",
              "      <th>IND</th>\n",
              "      <td>49</td>\n",
              "      <td>69</td>\n",
              "      <td>11</td>\n",
              "      <td>1467</td>\n",
              "    </tr>\n",
              "    <tr>\n",
              "      <th>Others country</th>\n",
              "      <td>467</td>\n",
              "      <td>938</td>\n",
              "      <td>160</td>\n",
              "      <td>9274</td>\n",
              "    </tr>\n",
              "    <tr>\n",
              "      <th>USA</th>\n",
              "      <td>4456</td>\n",
              "      <td>4557</td>\n",
              "      <td>1149</td>\n",
              "      <td>34395</td>\n",
              "    </tr>\n",
              "  </tbody>\n",
              "</table>\n",
              "</div>\n",
              "      <button class=\"colab-df-convert\" onclick=\"convertToInteractive('df-0339bfa6-aa5e-4592-a3c3-cffa05739a03')\"\n",
              "              title=\"Convert this dataframe to an interactive table.\"\n",
              "              style=\"display:none;\">\n",
              "        \n",
              "  <svg xmlns=\"http://www.w3.org/2000/svg\" height=\"24px\"viewBox=\"0 0 24 24\"\n",
              "       width=\"24px\">\n",
              "    <path d=\"M0 0h24v24H0V0z\" fill=\"none\"/>\n",
              "    <path d=\"M18.56 5.44l.94 2.06.94-2.06 2.06-.94-2.06-.94-.94-2.06-.94 2.06-2.06.94zm-11 1L8.5 8.5l.94-2.06 2.06-.94-2.06-.94L8.5 2.5l-.94 2.06-2.06.94zm10 10l.94 2.06.94-2.06 2.06-.94-2.06-.94-.94-2.06-.94 2.06-2.06.94z\"/><path d=\"M17.41 7.96l-1.37-1.37c-.4-.4-.92-.59-1.43-.59-.52 0-1.04.2-1.43.59L10.3 9.45l-7.72 7.72c-.78.78-.78 2.05 0 2.83L4 21.41c.39.39.9.59 1.41.59.51 0 1.02-.2 1.41-.59l7.78-7.78 2.81-2.81c.8-.78.8-2.07 0-2.86zM5.41 20L4 18.59l7.72-7.72 1.47 1.35L5.41 20z\"/>\n",
              "  </svg>\n",
              "      </button>\n",
              "      \n",
              "  <style>\n",
              "    .colab-df-container {\n",
              "      display:flex;\n",
              "      flex-wrap:wrap;\n",
              "      gap: 12px;\n",
              "    }\n",
              "\n",
              "    .colab-df-convert {\n",
              "      background-color: #E8F0FE;\n",
              "      border: none;\n",
              "      border-radius: 50%;\n",
              "      cursor: pointer;\n",
              "      display: none;\n",
              "      fill: #1967D2;\n",
              "      height: 32px;\n",
              "      padding: 0 0 0 0;\n",
              "      width: 32px;\n",
              "    }\n",
              "\n",
              "    .colab-df-convert:hover {\n",
              "      background-color: #E2EBFA;\n",
              "      box-shadow: 0px 1px 2px rgba(60, 64, 67, 0.3), 0px 1px 3px 1px rgba(60, 64, 67, 0.15);\n",
              "      fill: #174EA6;\n",
              "    }\n",
              "\n",
              "    [theme=dark] .colab-df-convert {\n",
              "      background-color: #3B4455;\n",
              "      fill: #D2E3FC;\n",
              "    }\n",
              "\n",
              "    [theme=dark] .colab-df-convert:hover {\n",
              "      background-color: #434B5C;\n",
              "      box-shadow: 0px 1px 3px 1px rgba(0, 0, 0, 0.15);\n",
              "      filter: drop-shadow(0px 1px 2px rgba(0, 0, 0, 0.3));\n",
              "      fill: #FFFFFF;\n",
              "    }\n",
              "  </style>\n",
              "\n",
              "      <script>\n",
              "        const buttonEl =\n",
              "          document.querySelector('#df-0339bfa6-aa5e-4592-a3c3-cffa05739a03 button.colab-df-convert');\n",
              "        buttonEl.style.display =\n",
              "          google.colab.kernel.accessAllowed ? 'block' : 'none';\n",
              "\n",
              "        async function convertToInteractive(key) {\n",
              "          const element = document.querySelector('#df-0339bfa6-aa5e-4592-a3c3-cffa05739a03');\n",
              "          const dataTable =\n",
              "            await google.colab.kernel.invokeFunction('convertToInteractive',\n",
              "                                                     [key], {});\n",
              "          if (!dataTable) return;\n",
              "\n",
              "          const docLinkHtml = 'Like what you see? Visit the ' +\n",
              "            '<a target=\"_blank\" href=https://colab.research.google.com/notebooks/data_table.ipynb>data table notebook</a>'\n",
              "            + ' to learn more about interactive tables.';\n",
              "          element.innerHTML = '';\n",
              "          dataTable['output_type'] = 'display_data';\n",
              "          await google.colab.output.renderOutput(dataTable, element);\n",
              "          const docLink = document.createElement('div');\n",
              "          docLink.innerHTML = docLinkHtml;\n",
              "          element.appendChild(docLink);\n",
              "        }\n",
              "      </script>\n",
              "    </div>\n",
              "  </div>\n",
              "  "
            ]
          },
          "metadata": {},
          "execution_count": 56
        }
      ]
    },
    {
      "cell_type": "code",
      "source": [
        "# Which Countries how many companies are located by status wise\n",
        "\n",
        "df1.plot(kind='bar',color=['red','yellow','orange','green'])\n",
        "plt.title('Companies are located by status wise')\n",
        "plt.ylabel('Total Count')\n",
        "\n",
        "plt.show()"
      ],
      "metadata": {
        "id": "uKDBeq6pSfNd",
        "colab": {
          "base_uri": "https://localhost:8080/",
          "height": 687
        },
        "outputId": "ef0fb723-ed03-43a7-f5d5-62141e3b3152"
      },
      "execution_count": 57,
      "outputs": [
        {
          "output_type": "display_data",
          "data": {
            "text/plain": [
              "<Figure size 1152x720 with 1 Axes>"
            ],
            "image/png": "[encoded data removed]"
          },
          "metadata": {}
        }
      ]
    },
    {
      "cell_type": "markdown",
      "source": [
        "**Observation :**\n",
        "\n",
        "* Most comapanies status is operating & they are located in USA,UK & others countries\n",
        "\n",
        "* Closed,Ipo & acquired also the most number of companies in USA\n",
        "\n",
        "* The reamining countries India,China,Canda & france their most number of companies only operating\n"
      ],
      "metadata": {
        "id": "JovIvzJNUFtT"
      }
    },
    {
      "cell_type": "markdown",
      "source": [
        "**Which Countries has most number of catgories**"
      ],
      "metadata": {
        "id": "jwJHrjDoXmRk"
      }
    },
    {
      "cell_type": "code",
      "source": [
        "df2=df.groupby(['country_code','category_list'])['name'].count()\n",
        "df2.to_csv('country_code_category_list.csv')\n",
        "df2=pd.read_csv('country_code_category_list.csv')\n",
        "df2=pd.pivot_table(df2,values=None,index=['country_code'],columns=['category_list'],fill_value=0,aggfunc=np.sum)\n",
        "df2"
      ],
      "metadata": {
        "id": "Ke4_xTzYWNh0",
        "colab": {
          "base_uri": "https://localhost:8080/",
          "height": 363
        },
        "outputId": "c06db1e3-b233-48e1-fd5a-a7804427c88f"
      },
      "execution_count": 58,
      "outputs": [
        {
          "output_type": "execute_result",
          "data": {
            "text/plain": [
              "                        name                                                 \\\n",
              "category_list  Biotechnology Clean Technology Curated Web E-Commerce Mobile   \n",
              "country_code                                                                  \n",
              "CAN                      126               65          21         25     35   \n",
              "CHN                       43               27          22        135    101   \n",
              "DEU                       70               23          15         35     15   \n",
              "FRA                       63               18          19         28     20   \n",
              "GBR                      196               85          56         66     60   \n",
              "IND                       17               23          24         78     27   \n",
              "Others country           329              148         136        307    170   \n",
              "USA                     2771              744         757        658    749   \n",
              "\n",
              "                                        \n",
              "category_list  Others Catgory Software  \n",
              "country_code                            \n",
              "CAN                      1472      181  \n",
              "CHN                      1105      111  \n",
              "DEU                       813      111  \n",
              "FRA                       834      153  \n",
              "GBR                      2923      302  \n",
              "IND                      1309      118  \n",
              "Others country           8928      821  \n",
              "USA                     33533     5345  "
            ],
            "text/html": [
              "\n",
              "  <div id=\"df-35495d35-8b01-40c8-9d3e-9feeb4ded958\">\n",
              "    <div class=\"colab-df-container\">\n",
              "      <div>\n",
              "<style scoped>\n",
              "    .dataframe tbody tr th:only-of-type {\n",
              "        vertical-align: middle;\n",
              "    }\n",
              "\n",
              "    .dataframe tbody tr th {\n",
              "        vertical-align: top;\n",
              "    }\n",
              "\n",
              "    .dataframe thead tr th {\n",
              "        text-align: left;\n",
              "    }\n",
              "\n",
              "    .dataframe thead tr:last-of-type th {\n",
              "        text-align: right;\n",
              "    }\n",
              "</style>\n",
              "<table border=\"1\" class=\"dataframe\">\n",
              "  <thead>\n",
              "    <tr>\n",
              "      <th></th>\n",
              "      <th colspan=\"7\" halign=\"left\">name</th>\n",
              "    </tr>\n",
              "    <tr>\n",
              "      <th>category_list</th>\n",
              "      <th>Biotechnology</th>\n",
              "      <th>Clean Technology</th>\n",
              "      <th>Curated Web</th>\n",
              "      <th>E-Commerce</th>\n",
              "      <th>Mobile</th>\n",
              "      <th>Others Catgory</th>\n",
              "      <th>Software</th>\n",
              "    </tr>\n",
              "    <tr>\n",
              "      <th>country_code</th>\n",
              "      <th></th>\n",
              "      <th></th>\n",
              "      <th></th>\n",
              "      <th></th>\n",
              "      <th></th>\n",
              "      <th></th>\n",
              "      <th></th>\n",
              "    </tr>\n",
              "  </thead>\n",
              "  <tbody>\n",
              "    <tr>\n",
              "      <th>CAN</th>\n",
              "      <td>126</td>\n",
              "      <td>65</td>\n",
              "      <td>21</td>\n",
              "      <td>25</td>\n",
              "      <td>35</td>\n",
              "      <td>1472</td>\n",
              "      <td>181</td>\n",
              "    </tr>\n",
              "    <tr>\n",
              "      <th>CHN</th>\n",
              "      <td>43</td>\n",
              "      <td>27</td>\n",
              "      <td>22</td>\n",
              "      <td>135</td>\n",
              "      <td>101</td>\n",
              "      <td>1105</td>\n",
              "      <td>111</td>\n",
              "    </tr>\n",
              "    <tr>\n",
              "      <th>DEU</th>\n",
              "      <td>70</td>\n",
              "      <td>23</td>\n",
              "      <td>15</td>\n",
              "      <td>35</td>\n",
              "      <td>15</td>\n",
              "      <td>813</td>\n",
              "      <td>111</td>\n",
              "    </tr>\n",
              "    <tr>\n",
              "      <th>FRA</th>\n",
              "      <td>63</td>\n",
              "      <td>18</td>\n",
              "      <td>19</td>\n",
              "      <td>28</td>\n",
              "      <td>20</td>\n",
              "      <td>834</td>\n",
              "      <td>153</td>\n",
              "    </tr>\n",
              "    <tr>\n",
              "      <th>GBR</th>\n",
              "      <td>196</td>\n",
              "      <td>85</td>\n",
              "      <td>56</td>\n",
              "      <td>66</td>\n",
              "      <td>60</td>\n",
              "      <td>2923</td>\n",
              "      <td>302</td>\n",
              "    </tr>\n",
              "    <tr>\n",
              "      <th>IND</th>\n",
              "      <td>17</td>\n",
              "      <td>23</td>\n",
              "      <td>24</td>\n",
              "      <td>78</td>\n",
              "      <td>27</td>\n",
              "      <td>1309</td>\n",
              "      <td>118</td>\n",
              "    </tr>\n",
              "    <tr>\n",
              "      <th>Others country</th>\n",
              "      <td>329</td>\n",
              "      <td>148</td>\n",
              "      <td>136</td>\n",
              "      <td>307</td>\n",
              "      <td>170</td>\n",
              "      <td>8928</td>\n",
              "      <td>821</td>\n",
              "    </tr>\n",
              "    <tr>\n",
              "      <th>USA</th>\n",
              "      <td>2771</td>\n",
              "      <td>744</td>\n",
              "      <td>757</td>\n",
              "      <td>658</td>\n",
              "      <td>749</td>\n",
              "      <td>33533</td>\n",
              "      <td>5345</td>\n",
              "    </tr>\n",
              "  </tbody>\n",
              "</table>\n",
              "</div>\n",
              "      <button class=\"colab-df-convert\" onclick=\"convertToInteractive('df-35495d35-8b01-40c8-9d3e-9feeb4ded958')\"\n",
              "              title=\"Convert this dataframe to an interactive table.\"\n",
              "              style=\"display:none;\">\n",
              "        \n",
              "  <svg xmlns=\"http://www.w3.org/2000/svg\" height=\"24px\"viewBox=\"0 0 24 24\"\n",
              "       width=\"24px\">\n",
              "    <path d=\"M0 0h24v24H0V0z\" fill=\"none\"/>\n",
              "    <path d=\"M18.56 5.44l.94 2.06.94-2.06 2.06-.94-2.06-.94-.94-2.06-.94 2.06-2.06.94zm-11 1L8.5 8.5l.94-2.06 2.06-.94-2.06-.94L8.5 2.5l-.94 2.06-2.06.94zm10 10l.94 2.06.94-2.06 2.06-.94-2.06-.94-.94-2.06-.94 2.06-2.06.94z\"/><path d=\"M17.41 7.96l-1.37-1.37c-.4-.4-.92-.59-1.43-.59-.52 0-1.04.2-1.43.59L10.3 9.45l-7.72 7.72c-.78.78-.78 2.05 0 2.83L4 21.41c.39.39.9.59 1.41.59.51 0 1.02-.2 1.41-.59l7.78-7.78 2.81-2.81c.8-.78.8-2.07 0-2.86zM5.41 20L4 18.59l7.72-7.72 1.47 1.35L5.41 20z\"/>\n",
              "  </svg>\n",
              "      </button>\n",
              "      \n",
              "  <style>\n",
              "    .colab-df-container {\n",
              "      display:flex;\n",
              "      flex-wrap:wrap;\n",
              "      gap: 12px;\n",
              "    }\n",
              "\n",
              "    .colab-df-convert {\n",
              "      background-color: #E8F0FE;\n",
              "      border: none;\n",
              "      border-radius: 50%;\n",
              "      cursor: pointer;\n",
              "      display: none;\n",
              "      fill: #1967D2;\n",
              "      height: 32px;\n",
              "      padding: 0 0 0 0;\n",
              "      width: 32px;\n",
              "    }\n",
              "\n",
              "    .colab-df-convert:hover {\n",
              "      background-color: #E2EBFA;\n",
              "      box-shadow: 0px 1px 2px rgba(60, 64, 67, 0.3), 0px 1px 3px 1px rgba(60, 64, 67, 0.15);\n",
              "      fill: #174EA6;\n",
              "    }\n",
              "\n",
              "    [theme=dark] .colab-df-convert {\n",
              "      background-color: #3B4455;\n",
              "      fill: #D2E3FC;\n",
              "    }\n",
              "\n",
              "    [theme=dark] .colab-df-convert:hover {\n",
              "      background-color: #434B5C;\n",
              "      box-shadow: 0px 1px 3px 1px rgba(0, 0, 0, 0.15);\n",
              "      filter: drop-shadow(0px 1px 2px rgba(0, 0, 0, 0.3));\n",
              "      fill: #FFFFFF;\n",
              "    }\n",
              "  </style>\n",
              "\n",
              "      <script>\n",
              "        const buttonEl =\n",
              "          document.querySelector('#df-35495d35-8b01-40c8-9d3e-9feeb4ded958 button.colab-df-convert');\n",
              "        buttonEl.style.display =\n",
              "          google.colab.kernel.accessAllowed ? 'block' : 'none';\n",
              "\n",
              "        async function convertToInteractive(key) {\n",
              "          const element = document.querySelector('#df-35495d35-8b01-40c8-9d3e-9feeb4ded958');\n",
              "          const dataTable =\n",
              "            await google.colab.kernel.invokeFunction('convertToInteractive',\n",
              "                                                     [key], {});\n",
              "          if (!dataTable) return;\n",
              "\n",
              "          const docLinkHtml = 'Like what you see? Visit the ' +\n",
              "            '<a target=\"_blank\" href=https://colab.research.google.com/notebooks/data_table.ipynb>data table notebook</a>'\n",
              "            + ' to learn more about interactive tables.';\n",
              "          element.innerHTML = '';\n",
              "          dataTable['output_type'] = 'display_data';\n",
              "          await google.colab.output.renderOutput(dataTable, element);\n",
              "          const docLink = document.createElement('div');\n",
              "          docLink.innerHTML = docLinkHtml;\n",
              "          element.appendChild(docLink);\n",
              "        }\n",
              "      </script>\n",
              "    </div>\n",
              "  </div>\n",
              "  "
            ]
          },
          "metadata": {},
          "execution_count": 58
        }
      ]
    },
    {
      "cell_type": "code",
      "source": [
        "df2.plot(kind='bar',color=['red','yellow','orange','green','pink','brown','black'])\n",
        "plt.title('Companies are located by status wise')\n",
        "plt.ylabel('Total Count')\n",
        "\n",
        "plt.show()"
      ],
      "metadata": {
        "id": "MSCTsWPQWxd9",
        "colab": {
          "base_uri": "https://localhost:8080/",
          "height": 687
        },
        "outputId": "0a3fa298-ff00-4d2f-f12f-8a353127c0f0"
      },
      "execution_count": 59,
      "outputs": [
        {
          "output_type": "display_data",
          "data": {
            "text/plain": [
              "<Figure size 1152x720 with 1 Axes>"
            ],
            "image/png": "[encoded data removed]"
          },
          "metadata": {}
        }
      ]
    },
    {
      "cell_type": "markdown",
      "source": [
        "**Observation :**\n",
        "\n",
        "* Most comapanies catgory is others & they are located in USA,UK & others countries.\n",
        "\n",
        "* Biotechnology,Softare has most number of companies in USA.\n",
        "\n",
        "* The reamining countries India,China,Canda & france their are most number of companies are software related."
      ],
      "metadata": {
        "id": "0sI6bGGVXzNA"
      }
    },
    {
      "cell_type": "code",
      "source": [
        "# Visulizing the data by company wise in country statewise\n",
        "\n",
        "import plotly.express as px\n",
        "\n",
        "\n",
        "state = df.groupby(['state_code'])['name'].count().reset_index(name='counts')\n",
        "\n",
        "\n",
        "fig = px.choropleth(state,\n",
        "                    locations='state_code', \n",
        "                    locationmode ='USA-states',\n",
        "                    title='Statewise Data',\n",
        "                    color='counts',)\n",
        "fig.show()"
      ],
      "metadata": {
        "colab": {
          "base_uri": "https://localhost:8080/",
          "height": 542
        },
        "id": "MCjEq8jE8LFF",
        "outputId": "790e80cd-7169-4814-cd29-9c0240284ee0"
      },
      "execution_count": 60,
      "outputs": [
        {
          "output_type": "display_data",
          "data": {
            "text/html": [
              "<html>\n",
              "<head><meta charset=\"utf-8\" /></head>\n",
              "<body>\n",
              "    <div>            <script src=\"https://cdnjs.cloudflare.com/ajax/libs/mathjax/2.7.5/MathJax.js?config=TeX-AMS-MML_SVG\"></script><script type=\"text/javascript\">if (window.MathJax) {MathJax.Hub.Config({SVG: {font: \"STIX-Web\"}});}</script>                <script type=\"text/javascript\">window.PlotlyConfig = {MathJaxConfig: 'local'};</script>\n",
              "        <script src=\"https://cdn.plot.ly/plotly-2.8.3.min.js\"></script>                <div id=\"92f6fa8b-4ab8-402d-b3ee-b07f70835d1a\" class=\"plotly-graph-div\" style=\"height:525px; width:100%;\"></div>            <script type=\"text/javascript\">                                    window.PLOTLYENV=window.PLOTLYENV || {};                                    if (document.getElementById(\"92f6fa8b-4ab8-402d-b3ee-b07f70835d1a\")) {                    Plotly.newPlot(                        \"92f6fa8b-4ab8-402d-b3ee-b07f70835d1a\",                        [{\"coloraxis\":\"coloraxis\",\"geo\":\"geo\",\"hovertemplate\":\"state_code=%{location}<br>counts=%{z}<extra></extra>\",\"locationmode\":\"USA-states\",\"locations\":[\"1\",\"10\",\"11\",\"12\",\"13\",\"14\",\"15\",\"16\",\"17\",\"18\",\"19\",\"2\",\"20\",\"21\",\"22\",\"23\",\"24\",\"25\",\"26\",\"27\",\"28\",\"29\",\"3\",\"30\",\"31\",\"32\",\"33\",\"34\",\"35\",\"36\",\"37\",\"38\",\"39\",\"4\",\"40\",\"41\",\"42\",\"43\",\"44\",\"45\",\"46\",\"47\",\"48\",\"49\",\"5\",\"50\",\"51\",\"52\",\"53\",\"54\",\"55\",\"56\",\"57\",\"58\",\"59\",\"6\",\"60\",\"61\",\"62\",\"65\",\"66\",\"68\",\"7\",\"71\",\"72\",\"73\",\"75\",\"77\",\"78\",\"79\",\"8\",\"81\",\"82\",\"83\",\"86\",\"87\",\"88\",\"89\",\"9\",\"90\",\"91\",\"97\",\"98\",\"99\",\"A1\",\"A2\",\"A3\",\"A4\",\"A5\",\"A6\",\"A7\",\"A8\",\"A9\",\"AB\",\"AK\",\"AL\",\"AR\",\"AZ\",\"B1\",\"B2\",\"B3\",\"B4\",\"B5\",\"B6\",\"B7\",\"B8\",\"B9\",\"BC\",\"C1\",\"C2\",\"C3\",\"C5\",\"C6\",\"C7\",\"C8\",\"C9\",\"CA\",\"CO\",\"CT\",\"D2\",\"D3\",\"D4\",\"D5\",\"D6\",\"D7\",\"D8\",\"D9\",\"DC\",\"DE\",\"E1\",\"E2\",\"E3\",\"E4\",\"E5\",\"E6\",\"E7\",\"E8\",\"E9\",\"F1\",\"F2\",\"F4\",\"F5\",\"F7\",\"F8\",\"F9\",\"FL\",\"G1\",\"G2\",\"G3\",\"G4\",\"G5\",\"G7\",\"G8\",\"GA\",\"GU\",\"H2\",\"H3\",\"H4\",\"H5\",\"H7\",\"H8\",\"H9\",\"HI\",\"I2\",\"I4\",\"I5\",\"I6\",\"I7\",\"I9\",\"IA\",\"ID\",\"IL\",\"IN\",\"J1\",\"J2\",\"J3\",\"J4\",\"J5\",\"J6\",\"J7\",\"J8\",\"J9\",\"K2\",\"K3\",\"K4\",\"K7\",\"K8\",\"KS\",\"KY\",\"L1\",\"L3\",\"L6\",\"L7\",\"L8\",\"L9\",\"LA\",\"M2\",\"M3\",\"M4\",\"M5\",\"M8\",\"M9\",\"MA\",\"MB\",\"MD\",\"ME\",\"MI\",\"MN\",\"MO\",\"MS\",\"MT\",\"N1\",\"N2\",\"N3\",\"N4\",\"N5\",\"N7\",\"NB\",\"NC\",\"ND\",\"NE\",\"NH\",\"NJ\",\"NL\",\"NM\",\"NS\",\"NU\",\"NV\",\"NY\",\"O1\",\"O2\",\"O3\",\"OH\",\"OK\",\"ON\",\"OR\",\"P1\",\"P2\",\"P3\",\"P4\",\"P5\",\"P6\",\"P8\",\"P9\",\"PA\",\"PE\",\"Q1\",\"Q2\",\"Q3\",\"Q4\",\"Q5\",\"Q6\",\"QC\",\"R3\",\"R6\",\"RI\",\"SC\",\"SD\",\"SK\",\"T5\",\"T6\",\"T7\",\"T8\",\"T9\",\"TN\",\"TX\",\"U1\",\"U3\",\"U6\",\"U8\",\"UT\",\"V1\",\"V2\",\"V3\",\"V5\",\"V6\",\"V7\",\"V8\",\"V9\",\"VA\",\"VI\",\"VT\",\"W1\",\"W2\",\"W3\",\"W4\",\"W5\",\"W6\",\"W9\",\"WA\",\"WE\",\"WI\",\"WV\",\"WY\",\"X1\",\"X2\",\"X3\",\"X4\",\"X5\",\"X7\",\"Y1\",\"Y2\",\"Y4\",\"Y5\",\"Y6\",\"Y7\",\"Y9\",\"Z1\",\"Z3\",\"Z7\",\"Z8\"],\"name\":\"\",\"z\":[305,270,522,510,393,166,189,738,290,115,530,1160,93,124,612,436,61,269,279,142,63,265,285,213,14,42,6,175,44,72,16,3,3,515,334,4,91,1,1,3,3,4,336,1,789,2,38,60,24,6,8,303,5,6,22,168,73,19,1,40,34,9,1414,8,16,10,1,27,64,1,181,12,16,5,16,9,2,2,409,2,2,29,5,2,6,22,12,25,16,44,42,745,29,146,18,129,190,424,5,2,35,21,20,9,54,65,95,411,7,1,147,41,6,17,4,12,21446,955,400,4,5,13,2,4,1,10,29,268,114,3,23,1,14,7,23,49,4,15,2,40,5,1,12,27,5,1295,3,34,1,1,34,4,8,706,1,24,20,5,10,8,39,1911,65,56,4,8,10,40,17,92,71,1082,271,6,2,1,1,1,4,11,23,6,94,5,3,29,1,126,147,9,8,2,1,1,32,97,2,13,13,1,1,7,2542,19,616,63,448,448,292,38,36,4,8,4,4,14,57,19,640,24,114,146,714,21,97,60,1,263,3952,1,1,1,664,95,916,393,1,2,19,18,1,19,20,11,1001,1,4,3,4,9,27,1,316,28,3,115,175,18,5,12,4,2,1,1,494,1995,1,5,1,78,464,7,36,1,1,1,1,7,1,734,5,66,3,1,1,2,4,2,12,1261,1,250,17,27,2,1,3,5,17,2,1,3,5,1,4,1,4,3,1,10,1],\"type\":\"choropleth\"}],                        {\"template\":{\"data\":{\"bar\":[{\"error_x\":{\"color\":\"#2a3f5f\"},\"error_y\":{\"color\":\"#2a3f5f\"},\"marker\":{\"line\":{\"color\":\"#E5ECF6\",\"width\":0.5},\"pattern\":{\"fillmode\":\"overlay\",\"size\":10,\"solidity\":0.2}},\"type\":\"bar\"}],\"barpolar\":[{\"marker\":{\"line\":{\"color\":\"#E5ECF6\",\"width\":0.5},\"pattern\":{\"fillmode\":\"overlay\",\"size\":10,\"solidity\":0.2}},\"type\":\"barpolar\"}],\"carpet\":[{\"aaxis\":{\"endlinecolor\":\"#2a3f5f\",\"gridcolor\":\"white\",\"linecolor\":\"white\",\"minorgridcolor\":\"white\",\"startlinecolor\":\"#2a3f5f\"},\"baxis\":{\"endlinecolor\":\"#2a3f5f\",\"gridcolor\":\"white\",\"linecolor\":\"white\",\"minorgridcolor\":\"white\",\"startlinecolor\":\"#2a3f5f\"},\"type\":\"carpet\"}],\"choropleth\":[{\"colorbar\":{\"outlinewidth\":0,\"ticks\":\"\"},\"type\":\"choropleth\"}],\"contour\":[{\"colorbar\":{\"outlinewidth\":0,\"ticks\":\"\"},\"colorscale\":[[0.0,\"#0d0887\"],[0.1111111111111111,\"#46039f\"],[0.2222222222222222,\"#7201a8\"],[0.3333333333333333,\"#9c179e\"],[0.4444444444444444,\"#bd3786\"],[0.5555555555555556,\"#d8576b\"],[0.6666666666666666,\"#ed7953\"],[0.7777777777777778,\"#fb9f3a\"],[0.8888888888888888,\"#fdca26\"],[1.0,\"#f0f921\"]],\"type\":\"contour\"}],\"contourcarpet\":[{\"colorbar\":{\"outlinewidth\":0,\"ticks\":\"\"},\"type\":\"contourcarpet\"}],\"heatmap\":[{\"colorbar\":{\"outlinewidth\":0,\"ticks\":\"\"},\"colorscale\":[[0.0,\"#0d0887\"],[0.1111111111111111,\"#46039f\"],[0.2222222222222222,\"#7201a8\"],[0.3333333333333333,\"#9c179e\"],[0.4444444444444444,\"#bd3786\"],[0.5555555555555556,\"#d8576b\"],[0.6666666666666666,\"#ed7953\"],[0.7777777777777778,\"#fb9f3a\"],[0.8888888888888888,\"#fdca26\"],[1.0,\"#f0f921\"]],\"type\":\"heatmap\"}],\"heatmapgl\":[{\"colorbar\":{\"outlinewidth\":0,\"ticks\":\"\"},\"colorscale\":[[0.0,\"#0d0887\"],[0.1111111111111111,\"#46039f\"],[0.2222222222222222,\"#7201a8\"],[0.3333333333333333,\"#9c179e\"],[0.4444444444444444,\"#bd3786\"],[0.5555555555555556,\"#d8576b\"],[0.6666666666666666,\"#ed7953\"],[0.7777777777777778,\"#fb9f3a\"],[0.8888888888888888,\"#fdca26\"],[1.0,\"#f0f921\"]],\"type\":\"heatmapgl\"}],\"histogram\":[{\"marker\":{\"pattern\":{\"fillmode\":\"overlay\",\"size\":10,\"solidity\":0.2}},\"type\":\"histogram\"}],\"histogram2d\":[{\"colorbar\":{\"outlinewidth\":0,\"ticks\":\"\"},\"colorscale\":[[0.0,\"#0d0887\"],[0.1111111111111111,\"#46039f\"],[0.2222222222222222,\"#7201a8\"],[0.3333333333333333,\"#9c179e\"],[0.4444444444444444,\"#bd3786\"],[0.5555555555555556,\"#d8576b\"],[0.6666666666666666,\"#ed7953\"],[0.7777777777777778,\"#fb9f3a\"],[0.8888888888888888,\"#fdca26\"],[1.0,\"#f0f921\"]],\"type\":\"histogram2d\"}],\"histogram2dcontour\":[{\"colorbar\":{\"outlinewidth\":0,\"ticks\":\"\"},\"colorscale\":[[0.0,\"#0d0887\"],[0.1111111111111111,\"#46039f\"],[0.2222222222222222,\"#7201a8\"],[0.3333333333333333,\"#9c179e\"],[0.4444444444444444,\"#bd3786\"],[0.5555555555555556,\"#d8576b\"],[0.6666666666666666,\"#ed7953\"],[0.7777777777777778,\"#fb9f3a\"],[0.8888888888888888,\"#fdca26\"],[1.0,\"#f0f921\"]],\"type\":\"histogram2dcontour\"}],\"mesh3d\":[{\"colorbar\":{\"outlinewidth\":0,\"ticks\":\"\"},\"type\":\"mesh3d\"}],\"parcoords\":[{\"line\":{\"colorbar\":{\"outlinewidth\":0,\"ticks\":\"\"}},\"type\":\"parcoords\"}],\"pie\":[{\"automargin\":true,\"type\":\"pie\"}],\"scatter\":[{\"marker\":{\"colorbar\":{\"outlinewidth\":0,\"ticks\":\"\"}},\"type\":\"scatter\"}],\"scatter3d\":[{\"line\":{\"colorbar\":{\"outlinewidth\":0,\"ticks\":\"\"}},\"marker\":{\"colorbar\":{\"outlinewidth\":0,\"ticks\":\"\"}},\"type\":\"scatter3d\"}],\"scattercarpet\":[{\"marker\":{\"colorbar\":{\"outlinewidth\":0,\"ticks\":\"\"}},\"type\":\"scattercarpet\"}],\"scattergeo\":[{\"marker\":{\"colorbar\":{\"outlinewidth\":0,\"ticks\":\"\"}},\"type\":\"scattergeo\"}],\"scattergl\":[{\"marker\":{\"colorbar\":{\"outlinewidth\":0,\"ticks\":\"\"}},\"type\":\"scattergl\"}],\"scattermapbox\":[{\"marker\":{\"colorbar\":{\"outlinewidth\":0,\"ticks\":\"\"}},\"type\":\"scattermapbox\"}],\"scatterpolar\":[{\"marker\":{\"colorbar\":{\"outlinewidth\":0,\"ticks\":\"\"}},\"type\":\"scatterpolar\"}],\"scatterpolargl\":[{\"marker\":{\"colorbar\":{\"outlinewidth\":0,\"ticks\":\"\"}},\"type\":\"scatterpolargl\"}],\"scatterternary\":[{\"marker\":{\"colorbar\":{\"outlinewidth\":0,\"ticks\":\"\"}},\"type\":\"scatterternary\"}],\"surface\":[{\"colorbar\":{\"outlinewidth\":0,\"ticks\":\"\"},\"colorscale\":[[0.0,\"#0d0887\"],[0.1111111111111111,\"#46039f\"],[0.2222222222222222,\"#7201a8\"],[0.3333333333333333,\"#9c179e\"],[0.4444444444444444,\"#bd3786\"],[0.5555555555555556,\"#d8576b\"],[0.6666666666666666,\"#ed7953\"],[0.7777777777777778,\"#fb9f3a\"],[0.8888888888888888,\"#fdca26\"],[1.0,\"#f0f921\"]],\"type\":\"surface\"}],\"table\":[{\"cells\":{\"fill\":{\"color\":\"#EBF0F8\"},\"line\":{\"color\":\"white\"}},\"header\":{\"fill\":{\"color\":\"#C8D4E3\"},\"line\":{\"color\":\"white\"}},\"type\":\"table\"}]},\"layout\":{\"annotationdefaults\":{\"arrowcolor\":\"#2a3f5f\",\"arrowhead\":0,\"arrowwidth\":1},\"autotypenumbers\":\"strict\",\"coloraxis\":{\"colorbar\":{\"outlinewidth\":0,\"ticks\":\"\"}},\"colorscale\":{\"diverging\":[[0,\"#8e0152\"],[0.1,\"#c51b7d\"],[0.2,\"#de77ae\"],[0.3,\"#f1b6da\"],[0.4,\"#fde0ef\"],[0.5,\"#f7f7f7\"],[0.6,\"#e6f5d0\"],[0.7,\"#b8e186\"],[0.8,\"#7fbc41\"],[0.9,\"#4d9221\"],[1,\"#276419\"]],\"sequential\":[[0.0,\"#0d0887\"],[0.1111111111111111,\"#46039f\"],[0.2222222222222222,\"#7201a8\"],[0.3333333333333333,\"#9c179e\"],[0.4444444444444444,\"#bd3786\"],[0.5555555555555556,\"#d8576b\"],[0.6666666666666666,\"#ed7953\"],[0.7777777777777778,\"#fb9f3a\"],[0.8888888888888888,\"#fdca26\"],[1.0,\"#f0f921\"]],\"sequentialminus\":[[0.0,\"#0d0887\"],[0.1111111111111111,\"#46039f\"],[0.2222222222222222,\"#7201a8\"],[0.3333333333333333,\"#9c179e\"],[0.4444444444444444,\"#bd3786\"],[0.5555555555555556,\"#d8576b\"],[0.6666666666666666,\"#ed7953\"],[0.7777777777777778,\"#fb9f3a\"],[0.8888888888888888,\"#fdca26\"],[1.0,\"#f0f921\"]]},\"colorway\":[\"#636efa\",\"#EF553B\",\"#00cc96\",\"#ab63fa\",\"#FFA15A\",\"#19d3f3\",\"#FF6692\",\"#B6E880\",\"#FF97FF\",\"#FECB52\"],\"font\":{\"color\":\"#2a3f5f\"},\"geo\":{\"bgcolor\":\"white\",\"lakecolor\":\"white\",\"landcolor\":\"#E5ECF6\",\"showlakes\":true,\"showland\":true,\"subunitcolor\":\"white\"},\"hoverlabel\":{\"align\":\"left\"},\"hovermode\":\"closest\",\"mapbox\":{\"style\":\"light\"},\"paper_bgcolor\":\"white\",\"plot_bgcolor\":\"#E5ECF6\",\"polar\":{\"angularaxis\":{\"gridcolor\":\"white\",\"linecolor\":\"white\",\"ticks\":\"\"},\"bgcolor\":\"#E5ECF6\",\"radialaxis\":{\"gridcolor\":\"white\",\"linecolor\":\"white\",\"ticks\":\"\"}},\"scene\":{\"xaxis\":{\"backgroundcolor\":\"#E5ECF6\",\"gridcolor\":\"white\",\"gridwidth\":2,\"linecolor\":\"white\",\"showbackground\":true,\"ticks\":\"\",\"zerolinecolor\":\"white\"},\"yaxis\":{\"backgroundcolor\":\"#E5ECF6\",\"gridcolor\":\"white\",\"gridwidth\":2,\"linecolor\":\"white\",\"showbackground\":true,\"ticks\":\"\",\"zerolinecolor\":\"white\"},\"zaxis\":{\"backgroundcolor\":\"#E5ECF6\",\"gridcolor\":\"white\",\"gridwidth\":2,\"linecolor\":\"white\",\"showbackground\":true,\"ticks\":\"\",\"zerolinecolor\":\"white\"}},\"shapedefaults\":{\"line\":{\"color\":\"#2a3f5f\"}},\"ternary\":{\"aaxis\":{\"gridcolor\":\"white\",\"linecolor\":\"white\",\"ticks\":\"\"},\"baxis\":{\"gridcolor\":\"white\",\"linecolor\":\"white\",\"ticks\":\"\"},\"bgcolor\":\"#E5ECF6\",\"caxis\":{\"gridcolor\":\"white\",\"linecolor\":\"white\",\"ticks\":\"\"}},\"title\":{\"x\":0.05},\"xaxis\":{\"automargin\":true,\"gridcolor\":\"white\",\"linecolor\":\"white\",\"ticks\":\"\",\"title\":{\"standoff\":15},\"zerolinecolor\":\"white\",\"zerolinewidth\":2},\"yaxis\":{\"automargin\":true,\"gridcolor\":\"white\",\"linecolor\":\"white\",\"ticks\":\"\",\"title\":{\"standoff\":15},\"zerolinecolor\":\"white\",\"zerolinewidth\":2}}},\"geo\":{\"domain\":{\"x\":[0.0,1.0],\"y\":[0.0,1.0]},\"center\":{}},\"coloraxis\":{\"colorbar\":{\"title\":{\"text\":\"counts\"}},\"colorscale\":[[0.0,\"#0d0887\"],[0.1111111111111111,\"#46039f\"],[0.2222222222222222,\"#7201a8\"],[0.3333333333333333,\"#9c179e\"],[0.4444444444444444,\"#bd3786\"],[0.5555555555555556,\"#d8576b\"],[0.6666666666666666,\"#ed7953\"],[0.7777777777777778,\"#fb9f3a\"],[0.8888888888888888,\"#fdca26\"],[1.0,\"#f0f921\"]]},\"legend\":{\"tracegroupgap\":0},\"title\":{\"text\":\"Statewise Data\"}},                        {\"responsive\": true}                    ).then(function(){\n",
              "                            \n",
              "var gd = document.getElementById('92f6fa8b-4ab8-402d-b3ee-b07f70835d1a');\n",
              "var x = new MutationObserver(function (mutations, observer) {{\n",
              "        var display = window.getComputedStyle(gd).display;\n",
              "        if (!display || display === 'none') {{\n",
              "            console.log([gd, 'removed!']);\n",
              "            Plotly.purge(gd);\n",
              "            observer.disconnect();\n",
              "        }}\n",
              "}});\n",
              "\n",
              "// Listen for the removal of the full notebook cells\n",
              "var notebookContainer = gd.closest('#notebook-container');\n",
              "if (notebookContainer) {{\n",
              "    x.observe(notebookContainer, {childList: true});\n",
              "}}\n",
              "\n",
              "// Listen for the clearing of the current output cell\n",
              "var outputEl = gd.closest('.output');\n",
              "if (outputEl) {{\n",
              "    x.observe(outputEl, {childList: true});\n",
              "}}\n",
              "\n",
              "                        })                };                            </script>        </div>\n",
              "</body>\n",
              "</html>"
            ]
          },
          "metadata": {}
        }
      ]
    },
    {
      "cell_type": "markdown",
      "source": [
        "#**12. Conclusion :**\n",
        "\n",
        "* That's all about EDA phases,\n",
        "We reached the end of our exercise.\n",
        "\n",
        "* By using visualizations and other methods, we have uncover patterns and relationships.\n",
        "\n",
        "![](https://i.pinimg.com/originals/88/66/7e/88667eaf29f1bbf12d64abaaeae6caa2.gif)"
      ],
      "metadata": {
        "id": "a_22VXTGOLbP"
      }
    }
  ]
}